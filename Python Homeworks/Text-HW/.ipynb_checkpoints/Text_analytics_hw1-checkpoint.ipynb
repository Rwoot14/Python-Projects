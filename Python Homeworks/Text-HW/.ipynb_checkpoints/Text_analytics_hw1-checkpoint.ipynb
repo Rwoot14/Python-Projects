{
 "cells": [
  {
   "cell_type": "markdown",
   "metadata": {},
   "source": [
    "<font size=6>\n",
    "<center> **Text Analytics Group Assignment 1** </center>"
   ]
  },
  {
   "cell_type": "markdown",
   "metadata": {},
   "source": [
    "$$ Daxi Cheng, Nick Scheifler, Reece Wooten, Jianjie Zheng$$"
   ]
  },
  {
   "cell_type": "code",
   "execution_count": 1,
   "metadata": {},
   "outputs": [
    {
     "name": "stdout",
     "output_type": "stream",
     "text": [
      "Populating the interactive namespace from numpy and matplotlib\n"
     ]
    }
   ],
   "source": [
    "from pandas import Series, DataFrame\n",
    "import pandas as pd\n",
    "import nltk\n",
    "import operator\n",
    "import re,string\n",
    "from patsy import dmatrices\n",
    "%pylab inline\n",
    "from nltk.corpus import stopwords\n",
    "import re\n",
    "from itertools import chain\n",
    "from collections import Counter\n",
    "import random\n",
    "from nltk.probability import FreqDist\n",
    "import matplotlib.pyplot as plt"
   ]
  },
  {
   "cell_type": "markdown",
   "metadata": {},
   "source": [
    "### A1. What are the top 5 parts of speech in this corpus of job descriptions? How frequently do they appear?"
   ]
  },
  {
   "cell_type": "markdown",
   "metadata": {},
   "source": [
    "### (1) Import file and create sample of 5,000 rows\n",
    "Since we asked the professor about the sample size and got the advice that 5000 is just ok to reduce processing time."
   ]
  },
  {
   "cell_type": "code",
   "execution_count": 4,
   "metadata": {
    "collapsed": true
   },
   "outputs": [],
   "source": [
    "train_data = pd.read_csv('Train_rev1.csv')"
   ]
  },
  {
   "cell_type": "code",
   "execution_count": 5,
   "metadata": {},
   "outputs": [
    {
     "data": {
      "text/html": [
       "<div>\n",
       "<style>\n",
       "    .dataframe thead tr:only-child th {\n",
       "        text-align: right;\n",
       "    }\n",
       "\n",
       "    .dataframe thead th {\n",
       "        text-align: left;\n",
       "    }\n",
       "\n",
       "    .dataframe tbody tr th {\n",
       "        vertical-align: top;\n",
       "    }\n",
       "</style>\n",
       "<table border=\"1\" class=\"dataframe\">\n",
       "  <thead>\n",
       "    <tr style=\"text-align: right;\">\n",
       "      <th></th>\n",
       "      <th>Id</th>\n",
       "      <th>Title</th>\n",
       "      <th>FullDescription</th>\n",
       "      <th>LocationRaw</th>\n",
       "      <th>LocationNormalized</th>\n",
       "      <th>ContractType</th>\n",
       "      <th>ContractTime</th>\n",
       "      <th>Company</th>\n",
       "      <th>Category</th>\n",
       "      <th>SalaryRaw</th>\n",
       "      <th>SalaryNormalized</th>\n",
       "      <th>SourceName</th>\n",
       "    </tr>\n",
       "  </thead>\n",
       "  <tbody>\n",
       "    <tr>\n",
       "      <th>0</th>\n",
       "      <td>12612628</td>\n",
       "      <td>Engineering Systems Analyst</td>\n",
       "      <td>Engineering Systems Analyst Dorking Surrey Sal...</td>\n",
       "      <td>Dorking, Surrey, Surrey</td>\n",
       "      <td>Dorking</td>\n",
       "      <td>NaN</td>\n",
       "      <td>permanent</td>\n",
       "      <td>Gregory Martin International</td>\n",
       "      <td>Engineering Jobs</td>\n",
       "      <td>20000 - 30000/annum 20-30K</td>\n",
       "      <td>25000</td>\n",
       "      <td>cv-library.co.uk</td>\n",
       "    </tr>\n",
       "    <tr>\n",
       "      <th>1</th>\n",
       "      <td>12612830</td>\n",
       "      <td>Stress Engineer Glasgow</td>\n",
       "      <td>Stress Engineer Glasgow Salary **** to **** We...</td>\n",
       "      <td>Glasgow, Scotland, Scotland</td>\n",
       "      <td>Glasgow</td>\n",
       "      <td>NaN</td>\n",
       "      <td>permanent</td>\n",
       "      <td>Gregory Martin International</td>\n",
       "      <td>Engineering Jobs</td>\n",
       "      <td>25000 - 35000/annum 25-35K</td>\n",
       "      <td>30000</td>\n",
       "      <td>cv-library.co.uk</td>\n",
       "    </tr>\n",
       "    <tr>\n",
       "      <th>2</th>\n",
       "      <td>12612844</td>\n",
       "      <td>Modelling and simulation analyst</td>\n",
       "      <td>Mathematical Modeller / Simulation Analyst / O...</td>\n",
       "      <td>Hampshire, South East, South East</td>\n",
       "      <td>Hampshire</td>\n",
       "      <td>NaN</td>\n",
       "      <td>permanent</td>\n",
       "      <td>Gregory Martin International</td>\n",
       "      <td>Engineering Jobs</td>\n",
       "      <td>20000 - 40000/annum 20-40K</td>\n",
       "      <td>30000</td>\n",
       "      <td>cv-library.co.uk</td>\n",
       "    </tr>\n",
       "    <tr>\n",
       "      <th>3</th>\n",
       "      <td>12613049</td>\n",
       "      <td>Engineering Systems Analyst / Mathematical Mod...</td>\n",
       "      <td>Engineering Systems Analyst / Mathematical Mod...</td>\n",
       "      <td>Surrey, South East, South East</td>\n",
       "      <td>Surrey</td>\n",
       "      <td>NaN</td>\n",
       "      <td>permanent</td>\n",
       "      <td>Gregory Martin International</td>\n",
       "      <td>Engineering Jobs</td>\n",
       "      <td>25000 - 30000/annum 25K-30K negotiable</td>\n",
       "      <td>27500</td>\n",
       "      <td>cv-library.co.uk</td>\n",
       "    </tr>\n",
       "    <tr>\n",
       "      <th>4</th>\n",
       "      <td>12613647</td>\n",
       "      <td>Pioneer, Miser Engineering Systems Analyst</td>\n",
       "      <td>Pioneer, Miser  Engineering Systems Analyst Do...</td>\n",
       "      <td>Surrey, South East, South East</td>\n",
       "      <td>Surrey</td>\n",
       "      <td>NaN</td>\n",
       "      <td>permanent</td>\n",
       "      <td>Gregory Martin International</td>\n",
       "      <td>Engineering Jobs</td>\n",
       "      <td>20000 - 30000/annum 20-30K</td>\n",
       "      <td>25000</td>\n",
       "      <td>cv-library.co.uk</td>\n",
       "    </tr>\n",
       "  </tbody>\n",
       "</table>\n",
       "</div>"
      ],
      "text/plain": [
       "         Id                                              Title  \\\n",
       "0  12612628                        Engineering Systems Analyst   \n",
       "1  12612830                            Stress Engineer Glasgow   \n",
       "2  12612844                   Modelling and simulation analyst   \n",
       "3  12613049  Engineering Systems Analyst / Mathematical Mod...   \n",
       "4  12613647         Pioneer, Miser Engineering Systems Analyst   \n",
       "\n",
       "                                     FullDescription  \\\n",
       "0  Engineering Systems Analyst Dorking Surrey Sal...   \n",
       "1  Stress Engineer Glasgow Salary **** to **** We...   \n",
       "2  Mathematical Modeller / Simulation Analyst / O...   \n",
       "3  Engineering Systems Analyst / Mathematical Mod...   \n",
       "4  Pioneer, Miser  Engineering Systems Analyst Do...   \n",
       "\n",
       "                         LocationRaw LocationNormalized ContractType  \\\n",
       "0            Dorking, Surrey, Surrey            Dorking          NaN   \n",
       "1        Glasgow, Scotland, Scotland            Glasgow          NaN   \n",
       "2  Hampshire, South East, South East          Hampshire          NaN   \n",
       "3     Surrey, South East, South East             Surrey          NaN   \n",
       "4     Surrey, South East, South East             Surrey          NaN   \n",
       "\n",
       "  ContractTime                       Company          Category  \\\n",
       "0    permanent  Gregory Martin International  Engineering Jobs   \n",
       "1    permanent  Gregory Martin International  Engineering Jobs   \n",
       "2    permanent  Gregory Martin International  Engineering Jobs   \n",
       "3    permanent  Gregory Martin International  Engineering Jobs   \n",
       "4    permanent  Gregory Martin International  Engineering Jobs   \n",
       "\n",
       "                                SalaryRaw  SalaryNormalized        SourceName  \n",
       "0              20000 - 30000/annum 20-30K             25000  cv-library.co.uk  \n",
       "1              25000 - 35000/annum 25-35K             30000  cv-library.co.uk  \n",
       "2              20000 - 40000/annum 20-40K             30000  cv-library.co.uk  \n",
       "3  25000 - 30000/annum 25K-30K negotiable             27500  cv-library.co.uk  \n",
       "4              20000 - 30000/annum 20-30K             25000  cv-library.co.uk  "
      ]
     },
     "execution_count": 5,
     "metadata": {},
     "output_type": "execute_result"
    }
   ],
   "source": [
    "train_data[:5]"
   ]
  },
  {
   "cell_type": "code",
   "execution_count": 6,
   "metadata": {},
   "outputs": [
    {
     "name": "stdout",
     "output_type": "stream",
     "text": [
      "32888     Chef de Partie  Surrey  Accommodation availabl...\n",
      "207424    Loadrunner, facilita, performance testing, Loa...\n",
      "186947    I am seeking a professional and target driven ...\n",
      "62432     We are looking for an experienced Sales Engine...\n",
      "121266    PERSON SPECIFICATION: The successful candidate...\n",
      "Name: FullDescription, dtype: object\n"
     ]
    }
   ],
   "source": [
    "# A1, top 5 parts of speech in this corpus of job descriptions\n",
    "random.seed(1) \n",
    "rows = random.sample(range(len(train_data)), 5000) \n",
    "sample = train_data['FullDescription'][rows]\n",
    "print sample[:5]\n"
   ]
  },
  {
   "cell_type": "markdown",
   "metadata": {},
   "source": [
    "### (2) Instantiate and tokenize the corpus"
   ]
  },
  {
   "cell_type": "code",
   "execution_count": 7,
   "metadata": {
    "collapsed": true
   },
   "outputs": [],
   "source": [
    "corpus = sample.sum()\n",
    "corpus = corpus.decode('utf-8')\n",
    "# Converting to lower case and making sure there are only alphabetic characters, this also get rid of punctuation\n",
    "corpus_words = nltk.word_tokenize(corpus.lower())\n",
    "corpus_words = [word for word in corpus_words if word.isalpha()==True]"
   ]
  },
  {
   "cell_type": "code",
   "execution_count": 8,
   "metadata": {},
   "outputs": [
    {
     "data": {
      "text/plain": [
       "[(u'chef', 'NN'),\n",
       " (u'de', 'IN'),\n",
       " (u'partie', 'FW'),\n",
       " (u'surrey', 'JJ'),\n",
       " (u'accommodation', 'NN'),\n",
       " (u'available', 'JJ'),\n",
       " (u'you', 'PRP'),\n",
       " (u'will', 'MD'),\n",
       " (u'be', 'VB'),\n",
       " (u'working', 'VBG')]"
      ]
     },
     "execution_count": 8,
     "metadata": {},
     "output_type": "execute_result"
    }
   ],
   "source": [
    "# take a look at the words after tokenization and removing punctuation\n",
    "pos = nltk.pos_tag(corpus_words)\n",
    "pos[:10]"
   ]
  },
  {
   "cell_type": "markdown",
   "metadata": {
    "collapsed": true
   },
   "source": [
    "### (3) Get frequencies of Parts of Speech"
   ]
  },
  {
   "cell_type": "code",
   "execution_count": 9,
   "metadata": {},
   "outputs": [
    {
     "data": {
      "text/plain": [
       "[('NN', 306771),\n",
       " ('JJ', 137432),\n",
       " ('IN', 131301),\n",
       " ('NNS', 101403),\n",
       " ('DT', 100934)]"
      ]
     },
     "execution_count": 9,
     "metadata": {},
     "output_type": "execute_result"
    }
   ],
   "source": [
    "# top 5 part of speech\n",
    "counts = Counter(tag for word,tag in pos)\n",
    "counts.most_common()[:5]"
   ]
  },
  {
   "cell_type": "markdown",
   "metadata": {},
   "source": [
    "### Solution: The five most common parts of speech present in the corpus are Singular Nouns, Adjectives, Prepositions/Suboordinating Conjunctions, Plural Nouns, and Determiners."
   ]
  },
  {
   "cell_type": "markdown",
   "metadata": {},
   "source": [
    "### A2. Does this corpus support Zipf’s law? Plot the most common 100 words in the corpus against the theoretical prediction of the law. For this question, do not remove stopwords. Also do not perform stemming or lemmatization. "
   ]
  },
  {
   "cell_type": "markdown",
   "metadata": {},
   "source": [
    "### (1) Calculate frequencies of tokens and sort"
   ]
  },
  {
   "cell_type": "code",
   "execution_count": 10,
   "metadata": {
    "collapsed": true
   },
   "outputs": [],
   "source": [
    "# A2, Does this corpus support Zipf’s law?\n",
    "# frist, calculate the frequency of words\n",
    "fdist = nltk.FreqDist(corpus_words)\n",
    "sorted_fdist = pd.DataFrame(sorted(fdist.items(), key=operator.itemgetter(1),reverse=True))\n",
    "sorted_fdist.columns = ['word','frequency']\n",
    "# since we alrady remove non-alphabetic characters(punctuation) before, we then rank the word in sorted frequency dictionary\n",
    "sorted_fdist['rank'] = sorted_fdist['frequency'].rank(method='min',ascending=False)\n",
    "# take most common frequenct words and plot the graph\n",
    "top_100 = sorted_fdist[:100]\n"
   ]
  },
  {
   "cell_type": "markdown",
   "metadata": {},
   "source": [
    "### (2) Plot 100 most common tokens against theoretical Zipf's Law"
   ]
  },
  {
   "cell_type": "code",
   "execution_count": 11,
   "metadata": {},
   "outputs": [
    {
     "data": {
      "image/png": "[encoded data removed]",
      "text/plain": [
       "<matplotlib.figure.Figure at 0x12b1dce90>"
      ]
     },
     "metadata": {},
     "output_type": "display_data"
    }
   ],
   "source": [
    "#plot the rank versus frequency graph\n",
    "plt.figure(figsize=(20,10))\n",
    "fdist.plot(100, cumulative=False)"
   ]
  },
  {
   "cell_type": "code",
   "execution_count": 12,
   "metadata": {},
   "outputs": [
    {
     "name": "stderr",
     "output_type": "stream",
     "text": [
      "/Users/Jack/anaconda/lib/python2.7/site-packages/ipykernel/__main__.py:2: SettingWithCopyWarning: \n",
      "A value is trying to be set on a copy of a slice from a DataFrame.\n",
      "Try using .loc[row_indexer,col_indexer] = value instead\n",
      "\n",
      "See the caveats in the documentation: http://pandas.pydata.org/pandas-docs/stable/indexing.html#indexing-view-versus-copy\n",
      "  from ipykernel import kernelapp as app\n"
     ]
    },
    {
     "data": {
      "text/plain": [
       "<matplotlib.text.Text at 0x1307e33d0>"
      ]
     },
     "execution_count": 12,
     "metadata": {},
     "output_type": "execute_result"
    },
    {
     "data": {
      "image/png": "[encoded data removed]",
      "text/plain": [
       "<matplotlib.figure.Figure at 0x129fb1a90>"
      ]
     },
     "metadata": {},
     "output_type": "display_data"
    }
   ],
   "source": [
    "# Theoretical value of Zipf's law\n",
    "top_100['theoretical']= [top_100[\"frequency\"].max()/c for c in top_100['rank']]\n",
    "\n",
    "# Plotting actuals vs theoretical\n",
    "fig = plt.figure()\n",
    "\n",
    "ax = plt.plot([math.log(c) for c in top_100['rank'].values], [math.log(c) for c in top_100['frequency']], 'ro',color='black')\n",
    "\n",
    "ax2 = plt.plot([math.log(c) for c in top_100['rank'].values], [math.log(c) for c in top_100['theoretical']])\n",
    "\n",
    "xlabel(\"log(rank)\")\n",
    "ylabel(\"log(frequency)\")"
   ]
  },
  {
   "cell_type": "markdown",
   "metadata": {
    "collapsed": true
   },
   "source": [
    "#### From the first graph, we can see that the most common 100 words does follow the Zipf's law in generally. However, from the second graph, we also found out that words with higher frequency among the 100 words do not follow the law as closely."
   ]
  },
  {
   "cell_type": "markdown",
   "metadata": {},
   "source": [
    "### A3. If we remove stopwords and lemmatize the corpus, what are the 10 most common words? What are their frequencies?"
   ]
  },
  {
   "cell_type": "code",
   "execution_count": 13,
   "metadata": {},
   "outputs": [
    {
     "data": {
      "text/plain": [
       "[(u'work', 10463),\n",
       " (u'experience', 9832),\n",
       " (u'role', 6219),\n",
       " (u'team', 6066),\n",
       " (u'client', 5703),\n",
       " (u'business', 5608),\n",
       " (u'service', 5089),\n",
       " (u'skill', 4688),\n",
       " (u'manager', 4436),\n",
       " (u'within', 4431)]"
      ]
     },
     "execution_count": 13,
     "metadata": {},
     "output_type": "execute_result"
    }
   ],
   "source": [
    "# A3 remove stopword and lemmatize the corpus\n",
    "from nltk.stem import PorterStemmer, WordNetLemmatizer\n",
    "\n",
    "# Removing stop words\n",
    "filter_stopwords = [word for word in corpus_words if word not in stopwords.words('english')]\n",
    "\n",
    "# Lemmatizing based on the POS\n",
    "filtered_poi = nltk.pos_tag(filter_stopwords)\n",
    "\n",
    "wnl = WordNetLemmatizer()\n",
    "wordnet_tag ={'NN':'n','JJ':'a','VB':'v','RB':'r'}\n",
    "words_lem = []\n",
    "for t in filtered_poi:\n",
    "    try: words_lem.append(wnl.lemmatize(t[0],wordnet_tag[t[1][:2]]))\n",
    "    except: words_lem.append(wnl.lemmatize(t[0]))\n",
    "\n",
    "# Getting most common words\n",
    "fdist_2 = nltk.FreqDist(words_lem)\n",
    "fdist_2.most_common(10)\n"
   ]
  },
  {
   "cell_type": "markdown",
   "metadata": {},
   "source": [
    "**The 10 most common words and their frequencies are as above.**"
   ]
  },
  {
   "cell_type": "markdown",
   "metadata": {},
   "source": [
    "## Part B (predict salary from text information)"
   ]
  },
  {
   "cell_type": "markdown",
   "metadata": {},
   "source": [
    "### B1. Create a classification model with all words and the bag-of-words approach. How accurate is the model (show the confusion matrix)? "
   ]
  },
  {
   "cell_type": "code",
   "execution_count": 14,
   "metadata": {
    "collapsed": true
   },
   "outputs": [],
   "source": [
    "# part B1\n",
    "data = train_data.iloc[rows]\n"
   ]
  },
  {
   "cell_type": "code",
   "execution_count": 15,
   "metadata": {
    "collapsed": true
   },
   "outputs": [],
   "source": [
    "p=np.percentile(data['SalaryNormalized'],75)\n"
   ]
  },
  {
   "cell_type": "code",
   "execution_count": 16,
   "metadata": {},
   "outputs": [
    {
     "name": "stderr",
     "output_type": "stream",
     "text": [
      "/Users/Jack/anaconda/lib/python2.7/site-packages/ipykernel/__main__.py:7: SettingWithCopyWarning: \n",
      "A value is trying to be set on a copy of a slice from a DataFrame.\n",
      "Try using .loc[row_indexer,col_indexer] = value instead\n",
      "\n",
      "See the caveats in the documentation: http://pandas.pydata.org/pandas-docs/stable/indexing.html#indexing-view-versus-copy\n"
     ]
    }
   ],
   "source": [
    "def flag(s):\n",
    "    if s>p:\n",
    "        return 1\n",
    "    else:\n",
    "        return 0\n",
    "    \n",
    "data['Flag'] = data['SalaryNormalized'].map(flag)"
   ]
  },
  {
   "cell_type": "code",
   "execution_count": 17,
   "metadata": {},
   "outputs": [
    {
     "data": {
      "text/html": [
       "<div>\n",
       "<style>\n",
       "    .dataframe thead tr:only-child th {\n",
       "        text-align: right;\n",
       "    }\n",
       "\n",
       "    .dataframe thead th {\n",
       "        text-align: left;\n",
       "    }\n",
       "\n",
       "    .dataframe tbody tr th {\n",
       "        vertical-align: top;\n",
       "    }\n",
       "</style>\n",
       "<table border=\"1\" class=\"dataframe\">\n",
       "  <thead>\n",
       "    <tr style=\"text-align: right;\">\n",
       "      <th></th>\n",
       "      <th>Id</th>\n",
       "      <th>Title</th>\n",
       "      <th>FullDescription</th>\n",
       "      <th>LocationRaw</th>\n",
       "      <th>LocationNormalized</th>\n",
       "      <th>ContractType</th>\n",
       "      <th>ContractTime</th>\n",
       "      <th>Company</th>\n",
       "      <th>Category</th>\n",
       "      <th>SalaryRaw</th>\n",
       "      <th>SalaryNormalized</th>\n",
       "      <th>SourceName</th>\n",
       "      <th>Flag</th>\n",
       "    </tr>\n",
       "  </thead>\n",
       "  <tbody>\n",
       "    <tr>\n",
       "      <th>32888</th>\n",
       "      <td>68101564</td>\n",
       "      <td>Chef de Partie  **** AA rosette  Accommodation...</td>\n",
       "      <td>Chef de Partie  Surrey  Accommodation availabl...</td>\n",
       "      <td>Surrey, UK, Surrey</td>\n",
       "      <td>Surrey</td>\n",
       "      <td>NaN</td>\n",
       "      <td>NaN</td>\n",
       "      <td>Regent Recruitment</td>\n",
       "      <td>Hospitality &amp; Catering Jobs</td>\n",
       "      <td>From 18,000 to 20,000 per annum</td>\n",
       "      <td>19000</td>\n",
       "      <td>jobs.catererandhotelkeeper.com</td>\n",
       "      <td>0</td>\n",
       "    </tr>\n",
       "    <tr>\n",
       "      <th>207424</th>\n",
       "      <td>72128233</td>\n",
       "      <td>Senior Performance Engineers/Leads  Loadrunner</td>\n",
       "      <td>Loadrunner, facilita, performance testing, Loa...</td>\n",
       "      <td>City London South East</td>\n",
       "      <td>London</td>\n",
       "      <td>NaN</td>\n",
       "      <td>permanent</td>\n",
       "      <td>JM</td>\n",
       "      <td>IT Jobs</td>\n",
       "      <td>45000 - 70000 per annum + Bonus + Benefits</td>\n",
       "      <td>57500</td>\n",
       "      <td>cwjobs.co.uk</td>\n",
       "      <td>1</td>\n",
       "    </tr>\n",
       "    <tr>\n",
       "      <th>186947</th>\n",
       "      <td>71679641</td>\n",
       "      <td>Business Development Consultant</td>\n",
       "      <td>I am seeking a professional and target driven ...</td>\n",
       "      <td>Chatham Kent South East</td>\n",
       "      <td>Chatham</td>\n",
       "      <td>NaN</td>\n",
       "      <td>permanent</td>\n",
       "      <td>Adecco Group</td>\n",
       "      <td>Sales Jobs</td>\n",
       "      <td>16000 - 17000 per annum + uncapped commision (...</td>\n",
       "      <td>16500</td>\n",
       "      <td>totaljobs.com</td>\n",
       "      <td>0</td>\n",
       "    </tr>\n",
       "    <tr>\n",
       "      <th>62432</th>\n",
       "      <td>68700699</td>\n",
       "      <td>Sales Engineer</td>\n",
       "      <td>We are looking for an experienced Sales Engine...</td>\n",
       "      <td>UK</td>\n",
       "      <td>UK</td>\n",
       "      <td>NaN</td>\n",
       "      <td>permanent</td>\n",
       "      <td>Barclay Meade</td>\n",
       "      <td>Sales Jobs</td>\n",
       "      <td>40000 - 70000 per annum + Car &amp; Housing Allowa...</td>\n",
       "      <td>55000</td>\n",
       "      <td>totaljobs.com</td>\n",
       "      <td>1</td>\n",
       "    </tr>\n",
       "  </tbody>\n",
       "</table>\n",
       "</div>"
      ],
      "text/plain": [
       "              Id                                              Title  \\\n",
       "32888   68101564  Chef de Partie  **** AA rosette  Accommodation...   \n",
       "207424  72128233     Senior Performance Engineers/Leads  Loadrunner   \n",
       "186947  71679641                    Business Development Consultant   \n",
       "62432   68700699                                     Sales Engineer   \n",
       "\n",
       "                                          FullDescription  \\\n",
       "32888   Chef de Partie  Surrey  Accommodation availabl...   \n",
       "207424  Loadrunner, facilita, performance testing, Loa...   \n",
       "186947  I am seeking a professional and target driven ...   \n",
       "62432   We are looking for an experienced Sales Engine...   \n",
       "\n",
       "                    LocationRaw LocationNormalized ContractType ContractTime  \\\n",
       "32888        Surrey, UK, Surrey             Surrey          NaN          NaN   \n",
       "207424   City London South East             London          NaN    permanent   \n",
       "186947  Chatham Kent South East            Chatham          NaN    permanent   \n",
       "62432                        UK                 UK          NaN    permanent   \n",
       "\n",
       "                   Company                     Category  \\\n",
       "32888   Regent Recruitment  Hospitality & Catering Jobs   \n",
       "207424                  JM                      IT Jobs   \n",
       "186947        Adecco Group                   Sales Jobs   \n",
       "62432        Barclay Meade                   Sales Jobs   \n",
       "\n",
       "                                                SalaryRaw  SalaryNormalized  \\\n",
       "32888                     From 18,000 to 20,000 per annum             19000   \n",
       "207424         45000 - 70000 per annum + Bonus + Benefits             57500   \n",
       "186947  16000 - 17000 per annum + uncapped commision (...             16500   \n",
       "62432   40000 - 70000 per annum + Car & Housing Allowa...             55000   \n",
       "\n",
       "                            SourceName  Flag  \n",
       "32888   jobs.catererandhotelkeeper.com     0  \n",
       "207424                    cwjobs.co.uk     1  \n",
       "186947                   totaljobs.com     0  \n",
       "62432                    totaljobs.com     1  "
      ]
     },
     "execution_count": 17,
     "metadata": {},
     "output_type": "execute_result"
    }
   ],
   "source": [
    "data[:4]"
   ]
  },
  {
   "cell_type": "code",
   "execution_count": 18,
   "metadata": {
    "collapsed": true
   },
   "outputs": [],
   "source": [
    "# getting training and testing set and all tokens\n",
    "# build a function to control if to remove stop words and apply lemmatization\n",
    "\n",
    "\n",
    "train_set, test_set = data[2500:], data[:2500]\n",
    "train = train_set[['FullDescription', 'Flag']]\n",
    "test = test_set[['FullDescription', 'Flag']]\n",
    "\n",
    "def getAllTokens(data, lemmatize, removeStopWords): \n",
    "    t = []\n",
    "    stpWords = nltk.corpus.stopwords.words('english') \n",
    "    wnl = WordNetLemmatizer()\n",
    "    for index, row in data.iterrows():\n",
    "        jobDesc = row['FullDescription'] \n",
    "        jobDesc = jobDesc.decode('utf-8')\n",
    "        \n",
    "        tkns = nltk.word_tokenize(jobDesc.lower())\n",
    "        tkns = [word for word in tkns if word.isalpha()==True]\n",
    "        \n",
    "        if removeStopWords:\n",
    "            trimTkns = [w for w in tkns if w.lower() not in stpWords] \n",
    "            tkns = trimTkns[:]\n",
    "        new_dict = dict() \n",
    "        for tk in tkns:\n",
    "            if lemmatize:\n",
    "                tr = wnl.lemmatize(tk.lower()) \n",
    "                tk = tr[:]\n",
    "            new_dict[tk.lower()] = new_dict.get(tk.lower(), 0) + 1 \n",
    "        t.append((new_dict, data['Flag'][index]))\n",
    "    return t\n"
   ]
  },
  {
   "cell_type": "code",
   "execution_count": 19,
   "metadata": {},
   "outputs": [
    {
     "name": "stdout",
     "output_type": "stream",
     "text": [
      "0.6492\n"
     ]
    }
   ],
   "source": [
    "# get the feature train data and apply the build in Naive Bayes method on train data to get the classifier\n",
    "# Then apply classifier on train data to get the accuracy on test data\n",
    "train_feature = getAllTokens(train, False, False)\n",
    "test_feature = getAllTokens(test, False, False)\n",
    "classifier = nltk.NaiveBayesClassifier.train(train_feature)\n",
    "print(nltk.classify.accuracy(classifier, test_feature))\n"
   ]
  },
  {
   "cell_type": "code",
   "execution_count": 20,
   "metadata": {
    "scrolled": true
   },
   "outputs": [
    {
     "name": "stdout",
     "output_type": "stream",
     "text": [
      "  |      0      1 |\n",
      "--+---------------+\n",
      "0 | <42.6%> 32.5% |\n",
      "1 |   2.6% <22.3%>|\n",
      "--+---------------+\n",
      "(row = reference; col = test)\n",
      "\n"
     ]
    }
   ],
   "source": [
    "# Confusion matrix\n",
    "test_mod = [x[0] for x in test_feature]\n",
    "predict = classifier.classify_many(test_mod)\n",
    "actual = [x[1] for x in test_feature]\n",
    "cm = nltk.ConfusionMatrix(actual, predict)\n",
    "print (cm.pretty_format(sort_by_count=True, show_percents=True))\n"
   ]
  },
  {
   "cell_type": "markdown",
   "metadata": {
    "collapsed": true
   },
   "source": [
    "### If we just remove puctuation and apply naive bayes classification method, we get a model accuracy of 64.92%"
   ]
  },
  {
   "cell_type": "markdown",
   "metadata": {},
   "source": [
    "### B2. Speculate before running the following analysis whether lemmatization would help improve the accuracy of classification. Now create a classification model after lemmatization. Did the classification accuracy increase relative to B1? Comment on your speculation versus the actual results you obtained."
   ]
  },
  {
   "cell_type": "code",
   "execution_count": 21,
   "metadata": {},
   "outputs": [
    {
     "name": "stdout",
     "output_type": "stream",
     "text": [
      "0.6464\n"
     ]
    }
   ],
   "source": [
    "# Part B2, Do lemmatization to see if accuracy of Naive Bayes classification increases\n",
    "# since we build a function in previous question, we just need to set lemmatize to be True\n",
    "train_feature_lem = getAllTokens(train, True, False) \n",
    "test_feature_lem = getAllTokens(test, True, False) \n",
    "classifier = nltk.NaiveBayesClassifier.train(train_feature_lem) \n",
    "print(nltk.classify.accuracy(classifier, test_feature_lem))\n"
   ]
  },
  {
   "cell_type": "code",
   "execution_count": 22,
   "metadata": {},
   "outputs": [
    {
     "name": "stdout",
     "output_type": "stream",
     "text": [
      "  |      0      1 |\n",
      "--+---------------+\n",
      "0 | <42.4%> 32.7% |\n",
      "1 |   2.6% <22.2%>|\n",
      "--+---------------+\n",
      "(row = reference; col = test)\n",
      "\n"
     ]
    }
   ],
   "source": [
    "# Creating confusion matrix \n",
    "test_mod = [x[0] for x in test_feature_lem]\n",
    "predict = classifier.classify_many(test_mod)\n",
    "actual = [x[1] for x in test_feature_lem]\n",
    "cm = nltk.ConfusionMatrix(actual, predict)\n",
    "print (cm.pretty_format(sort_by_count=True, show_percents=True))\n"
   ]
  },
  {
   "cell_type": "markdown",
   "metadata": {
    "collapsed": true
   },
   "source": [
    "### After Lemmatization, the model accuracy does not change, it drops a little bit to 64.64%.\n",
    "We didnt believe lemmatization would help the accuracy because we would be losing information that might be important to the pay scale prediction."
   ]
  },
  {
   "cell_type": "markdown",
   "metadata": {},
   "source": [
    "### B3. Now speculate whether stopwords removal from the original data would help increase the accuracy of the model. Take out the stopwords (but do not lemmatize), build a classification model and check the accuracy, and compare with that in B1 & B2.   Also show the top 10 words (excluding stopwords) that are most indicative of (i) high salary, and (ii) low salary. "
   ]
  },
  {
   "cell_type": "code",
   "execution_count": 23,
   "metadata": {},
   "outputs": [
    {
     "name": "stdout",
     "output_type": "stream",
     "text": [
      "0.6364\n",
      "Most Informative Features\n",
      "                  friday = 1                   0 : 1      =     20.2 : 1.0\n",
      "                gravitas = 1                   1 : 0      =     19.4 : 1.0\n",
      "              complexity = 1                   1 : 0      =     14.9 : 1.0\n",
      "              mitigation = 1                   1 : 0      =     14.9 : 1.0\n",
      "                 eclipse = 1                   1 : 0      =     14.9 : 1.0\n",
      "             engagements = 1                   1 : 0      =     14.8 : 1.0\n",
      "                 hosting = 1                   1 : 0      =     14.8 : 1.0\n",
      "                    core = 2                   1 : 0      =     14.8 : 1.0\n",
      "                director = 4                   1 : 0      =     14.8 : 1.0\n",
      "                   banks = 1                   1 : 0      =     14.4 : 1.0\n",
      "None\n"
     ]
    }
   ],
   "source": [
    "# Part B3, Remove stop words but do not lemmatize and compare to Part B1 and B2.\n",
    "\n",
    "train_feature_sw = getAllTokens(train, False, True) \n",
    "test_feature_sw = getAllTokens(test, False, True) \n",
    "classifier = nltk.NaiveBayesClassifier.train(train_feature_sw) \n",
    "print(nltk.classify.accuracy(classifier, test_feature_sw))\n",
    "print classifier.show_most_informative_features(10)"
   ]
  },
  {
   "cell_type": "markdown",
   "metadata": {
    "collapsed": true
   },
   "source": [
    "#### After we remove the stop words, the, model accuracy drops to 63.64% and is lowest among the three. Therefore, we conclude that\n",
    "#### Naive Bayes classification perform the best when we just remove the puctuation and do not lemmatize and do not remove the \n",
    "#### stop words from the tokens.\n",
    "At first we thought that the removal of stopwords would likley increase accuracy by reducing the noise in the model, but in this specific case this kind of removal may lose some important imformation that actually help us to know more about the payment level."
   ]
  },
  {
   "cell_type": "markdown",
   "metadata": {},
   "source": [
    "### B4.  Use the job descriptions without lemmatization and stopword removal. Add parts-of-speech bigrams to the bag-of-words, and run a new classification model. Does the accuracy increase over the results in B1? "
   ]
  },
  {
   "cell_type": "code",
   "execution_count": 24,
   "metadata": {
    "collapsed": true
   },
   "outputs": [],
   "source": [
    "# Part B4"
   ]
  },
  {
   "cell_type": "markdown",
   "metadata": {},
   "source": [
    "### We took the tokens and analysed their parts of speech, then we get all the bigrams of these parts of speech and chain them after the origional sentences and do tokenization and count vectorization again. Just adding POS bigrams as features into the origional data."
   ]
  },
  {
   "cell_type": "code",
   "execution_count": 49,
   "metadata": {},
   "outputs": [
    {
     "data": {
      "text/plain": [
       "(5000, 13)"
      ]
     },
     "execution_count": 49,
     "metadata": {},
     "output_type": "execute_result"
    }
   ],
   "source": [
    "train_data=data\n",
    "train_data.shape"
   ]
  },
  {
   "cell_type": "code",
   "execution_count": 50,
   "metadata": {
    "collapsed": true
   },
   "outputs": [],
   "source": [
    "from nltk.tokenize import sent_tokenize, word_tokenize\n",
    "from collections import Counter\n",
    "from nltk.tokenize import RegexpTokenizer\n",
    "tokenizer = RegexpTokenizer(r'\\w+')\n",
    "def token(s):\n",
    "    decode=s.decode('utf-8').strip()\n",
    "    token=tokenizer.tokenize(decode)\n",
    "    return token\n",
    "train_data['token']=train_data['FullDescription'].map(token)"
   ]
  },
  {
   "cell_type": "code",
   "execution_count": 51,
   "metadata": {
    "collapsed": true
   },
   "outputs": [],
   "source": [
    "def pos(s):\n",
    "    poslist=[]\n",
    "    pos=nltk.pos_tag(s)\n",
    "    for i in pos:\n",
    "        poslist.append(i[1])\n",
    "    return poslist\n",
    "\n",
    "train_data['pos']=train_data['token'].map(pos)"
   ]
  },
  {
   "cell_type": "code",
   "execution_count": 52,
   "metadata": {},
   "outputs": [
    {
     "data": {
      "text/plain": [
       "32888     NNPFW, FWNNP, NNPNNP, NNPNNP, NNPJJ, JJNNP, NN...\n",
       "207424    NNPJJ, JJNN, NNVBG, VBGNNP, NNPVBG, VBGRB, RBN...\n",
       "186947    PRPVBP, VBPVBG, VBGDT, DTJJ, JJCC, CCVB, VBVBN...\n",
       "62432     PRPVBP, VBPVBG, VBGIN, INDT, DTJJ, JJNNS, NNSN...\n",
       "121266    NNPNNP, NNPDT, DTJJ, JJNN, NNMD, MDVB, VBNNP, ...\n",
       "Name: bipos, dtype: object"
      ]
     },
     "execution_count": 52,
     "metadata": {},
     "output_type": "execute_result"
    }
   ],
   "source": [
    "from nltk.util import ngrams\n",
    "def posbigram(s):\n",
    "    bigramlist=[]\n",
    "    bigrams=ngrams(s,2)\n",
    "    for i in bigrams:\n",
    "        aux=str(i).lstrip('(').rstrip(')')\n",
    "        bigram=aux.replace(',','')\n",
    "        bigram=bigram.replace(\"'\",\"\")\n",
    "        bigram=bigram.replace(' ','')\n",
    "        bigramlist.append(bigram)\n",
    "    return str(bigramlist).strip('[').rstrip(']').replace(\"'\",\"\")\n",
    "train_data['bipos']=train_data['pos'].map(posbigram)\n",
    "train_data['bipos'].head()"
   ]
  },
  {
   "cell_type": "code",
   "execution_count": 53,
   "metadata": {},
   "outputs": [
    {
     "data": {
      "text/plain": [
       "32888     Chef de Partie  Surrey  Accommodation availabl...\n",
       "207424    Loadrunner, facilita, performance testing, Loa...\n",
       "186947    I am seeking a professional and target driven ...\n",
       "62432     We are looking for an experienced Sales Engine...\n",
       "121266    PERSON SPECIFICATION: The successful candidate...\n",
       "Name: newfeature, dtype: object"
      ]
     },
     "execution_count": 53,
     "metadata": {},
     "output_type": "execute_result"
    }
   ],
   "source": [
    "train_data['newfeature']=train_data['FullDescription']+train_data['bipos']\n",
    "train_data['newfeature'].head()"
   ]
  },
  {
   "cell_type": "code",
   "execution_count": 56,
   "metadata": {},
   "outputs": [
    {
     "name": "stderr",
     "output_type": "stream",
     "text": [
      "/Users/Jack/anaconda/lib/python2.7/site-packages/ipykernel/__main__.py:6: SettingWithCopyWarning: \n",
      "A value is trying to be set on a copy of a slice from a DataFrame.\n",
      "Try using .loc[row_indexer,col_indexer] = value instead\n",
      "\n",
      "See the caveats in the documentation: http://pandas.pydata.org/pandas-docs/stable/indexing.html#indexing-view-versus-copy\n"
     ]
    }
   ],
   "source": [
    "from sklearn.feature_extraction.text import CountVectorizer\n",
    "from sklearn.cross_validation import train_test_split\n",
    "train_data['newfeature']=train_data['FullDescription']+train_data['bipos']\n",
    "partB_data = train_data[['newfeature','SalaryNormalized']]\n",
    "salary_75 = partB_data['SalaryNormalized'].quantile(0.75)\n",
    "partB_data['salary_class'] = np.where(partB_data['SalaryNormalized']>=salary_75,'high','low')\n",
    "x=partB_data['newfeature']\n",
    "y=partB_data['salary_class']\n",
    "x_train, x_test, y_train, y_test = train_test_split(x, y, test_size = .3, random_state = 1)\n",
    "vectorizer = CountVectorizer(analyzer = \"word\", \n",
    "                             tokenizer= tokenizer.tokenize,\n",
    "                             preprocessor = None, \n",
    "                             stop_words = None, \n",
    "                             max_features = None)\n",
    "\n",
    "X_train = vectorizer.fit_transform(x_train)\n",
    "X_test = vectorizer.transform(x_test)"
   ]
  },
  {
   "cell_type": "code",
   "execution_count": 59,
   "metadata": {
    "scrolled": true
   },
   "outputs": [
    {
     "name": "stdout",
     "output_type": "stream",
     "text": [
      "             precision    recall  f1-score   support\n",
      "\n",
      "       high       0.57      0.70      0.63       373\n",
      "        low       0.89      0.82      0.86      1127\n",
      "\n",
      "avg / total       0.81      0.79      0.80      1500\n",
      "\n",
      "[[262 111]\n",
      " [199 928]]\n",
      "0.793333333333\n"
     ]
    }
   ],
   "source": [
    "from sklearn.naive_bayes import MultinomialNB\n",
    "from sklearn import metrics\n",
    "from sklearn.metrics import classification_report\n",
    "NB_posbi_classifier = MultinomialNB().fit(X_train, y_train)\n",
    "y_nb_posbi_predicted = NB_posbi_classifier.predict(X_test)\n",
    "print classification_report(y_test,y_nb_posbi_predicted)\n",
    "\n",
    "# Print confusion matrix for NB with tokenization\n",
    "print metrics.confusion_matrix(y_test, y_nb_posbi_predicted)\n",
    "\n",
    "# Get accuracy score for tokenization\n",
    "print metrics.accuracy_score(y_test, y_nb_posbi_predicted)"
   ]
  },
  {
   "cell_type": "markdown",
   "metadata": {
    "collapsed": true
   },
   "source": [
    "After we add the part-of-speech bigrams, the model accuracy increases to 79% and it is also the highest model accuracy we have so far. It has a significant increase compared with B1."
   ]
  },
  {
   "cell_type": "markdown",
   "metadata": {},
   "source": [
    "Here the POS bigrams significantly increase the accuracy of the model. Actually for the model in B3 we did the same operation for 10K sample size and get the accuracy rate of about 75% instead of 63% here we got through 5K data size. However, for the POS bigram part here, the result we got through 5K and 10K data size are about the same. We think this is because this kind of operation actually reduce the noise by adding the sentence structure into the features and this kind of feature of sentence structure capture a lot of information related to the job function, which is related to the pay scales."
   ]
  }
 ],
 "metadata": {
  "anaconda-cloud": {},
  "kernelspec": {
   "display_name": "Python [default]",
   "language": "python",
   "name": "python2"
  },
  "language_info": {
   "codemirror_mode": {
    "name": "ipython",
    "version": 2
   },
   "file_extension": ".py",
   "mimetype": "text/x-python",
   "name": "python",
   "nbconvert_exporter": "python",
   "pygments_lexer": "ipython2",
   "version": "2.7.13"
  }
 },
 "nbformat": 4,
 "nbformat_minor": 2
}
