{
 "cells": [
  {
   "cell_type": "markdown",
   "metadata": {},
   "source": [
    "# Text Analysis Homework 2: Edmunds Forums\n",
    "<br>\n",
    "## Daxi Cheng, Jianjie Zheng, Reece Wooten, Nick Scheifler\n"
   ]
  },
  {
   "cell_type": "code",
   "execution_count": 1,
   "metadata": {},
   "outputs": [
    {
     "name": "stdout",
     "output_type": "stream",
     "text": [
      "Populating the interactive namespace from numpy and matplotlib\n"
     ]
    }
   ],
   "source": [
    "from pandas import Series, DataFrame\n",
    "import pandas as pd\n",
    "%pylab inline\n",
    "from nltk import pos_tag, word_tokenize\n",
    "import re\n",
    "import warnings\n",
    "warnings.filterwarnings(\"ignore\")"
   ]
  },
  {
   "cell_type": "code",
   "execution_count": 2,
   "metadata": {
    "collapsed": true
   },
   "outputs": [],
   "source": [
    "df = pd.read_csv('data.csv', index_col=0)\n",
    "model_df = pd.read_csv('Cars make model list.csv')\n",
    "model_df['Replace'] = model_df['Replace'].str.lower()\n",
    "model_df['Search'] = model_df['Search'].str.lower()\n",
    "model_dict = model_df.set_index('Search')['Replace'].to_dict()"
   ]
  },
  {
   "cell_type": "code",
   "execution_count": 4,
   "metadata": {
    "collapsed": true
   },
   "outputs": [],
   "source": [
    "from nltk.corpus import stopwords\n",
    "StopWordslist = stopwords.words(\"english\")\n",
    "\n",
    "def string_process(s):\n",
    "    s=str(s)\n",
    "    lower = s.lower()\n",
    "    for key, value in model_dict.items():\n",
    "        lower= lower.replace(key, value)\n",
    "    words = lower.split()\n",
    "    refined = []\n",
    "    for i in words:\n",
    "        if i not in StopWordslist:\n",
    "            refined.append(re.sub(\"[^\\w]+\", \"\", i))\n",
    "    sentence = ' '.join([word for word in refined])\n",
    "    return(sentence)\n",
    "df['text']=df['message'].map(string_process)"
   ]
  },
  {
   "cell_type": "code",
   "execution_count": 5,
   "metadata": {
    "collapsed": true
   },
   "outputs": [],
   "source": [
    "model_set=set(model_dict.values())-{'car','seat','sedan','problem'}\n",
    "count_df=DataFrame(df['text'])\n",
    "for i in model_set:\n",
    "    count_df[i]=0"
   ]
  },
  {
   "cell_type": "code",
   "execution_count": 6,
   "metadata": {
    "collapsed": true
   },
   "outputs": [],
   "source": [
    "\n",
    "def count_brand():\n",
    "    for num in range(len(count_df['text'])):\n",
    "        for i in model_set:\n",
    "            if i in count_df['text'][num]:\n",
    "                count_df.loc[num,i]=1\n",
    "count_brand()"
   ]
  },
  {
   "cell_type": "code",
   "execution_count": 7,
   "metadata": {},
   "outputs": [
    {
     "data": {
      "text/plain": [
       "honda        2777\n",
       "toyota       2358\n",
       "ford         1624\n",
       "nissan        858\n",
       "hyundai       853\n",
       "mazda         750\n",
       "chevrolet     408\n",
       "chrysler      334\n",
       "saturn        334\n",
       "dodge         290\n",
       "Name: Row_sum, dtype: int64"
      ]
     },
     "execution_count": 7,
     "metadata": {},
     "output_type": "execute_result"
    }
   ],
   "source": [
    "count_df.drop('text',1, inplace=True)\n",
    "count_df.loc['Row_sum'] = count_df.apply(lambda x: x.sum())\n",
    "count_series=count_df.T['Row_sum']\n",
    "count_series.sort_values(ascending=False)[:10]"
   ]
  },
  {
   "cell_type": "markdown",
   "metadata": {},
   "source": [
    "# Task A"
   ]
  },
  {
   "cell_type": "code",
   "execution_count": 8,
   "metadata": {
    "collapsed": true
   },
   "outputs": [],
   "source": [
    "count_number=count_df.drop('Row_sum')"
   ]
  },
  {
   "cell_type": "code",
   "execution_count": 9,
   "metadata": {
    "collapsed": true
   },
   "outputs": [],
   "source": [
    "def lift(a, b):\n",
    "    total = len(count_number)\n",
    "    fraq_a = sum(count_number[a])\n",
    "    fraq_b = sum(count_number[b])\n",
    "    a_b_df=count_number[[a,b]]\n",
    "    a_b_df['Col_sum'] = a_b_df.apply(lambda x: x.sum(), axis=1)\n",
    "    fraq_a_b=len(a_b_df[a_b_df['Col_sum']==2])\n",
    "    if fraq_a_b==0:\n",
    "        return .1\n",
    "    return round((total*fraq_a_b*1.0)/(fraq_a*fraq_b*1.0),2)"
   ]
  },
  {
   "cell_type": "code",
   "execution_count": 10,
   "metadata": {
    "collapsed": true
   },
   "outputs": [],
   "source": [
    "top_10=set(count_series.sort_values(ascending=False)[:10].index)\n",
    "list_10=list(count_series.sort_values(ascending=False)[:10].index)"
   ]
  },
  {
   "cell_type": "code",
   "execution_count": 11,
   "metadata": {
    "collapsed": true
   },
   "outputs": [],
   "source": [
    "lift_df=pd.DataFrame(columns=list_10, index=list_10)\n",
    "for i in list_10:\n",
    "    for j in list_10:\n",
    "        lift_df.loc[i,j]=lift(i,j)"
   ]
  },
  {
   "cell_type": "code",
   "execution_count": 12,
   "metadata": {},
   "outputs": [
    {
     "data": {
      "text/html": [
       "<div>\n",
       "<style>\n",
       "    .dataframe thead tr:only-child th {\n",
       "        text-align: right;\n",
       "    }\n",
       "\n",
       "    .dataframe thead th {\n",
       "        text-align: left;\n",
       "    }\n",
       "\n",
       "    .dataframe tbody tr th {\n",
       "        vertical-align: top;\n",
       "    }\n",
       "</style>\n",
       "<table border=\"1\" class=\"dataframe\">\n",
       "  <thead>\n",
       "    <tr style=\"text-align: right;\">\n",
       "      <th></th>\n",
       "      <th>honda</th>\n",
       "      <th>toyota</th>\n",
       "      <th>ford</th>\n",
       "      <th>nissan</th>\n",
       "      <th>hyundai</th>\n",
       "      <th>mazda</th>\n",
       "      <th>chevrolet</th>\n",
       "      <th>chrysler</th>\n",
       "      <th>saturn</th>\n",
       "      <th>dodge</th>\n",
       "    </tr>\n",
       "  </thead>\n",
       "  <tbody>\n",
       "    <tr>\n",
       "      <th>honda</th>\n",
       "      <td>2.17</td>\n",
       "      <td>1.35</td>\n",
       "      <td>1.19</td>\n",
       "      <td>1.32</td>\n",
       "      <td>1.43</td>\n",
       "      <td>1.14</td>\n",
       "      <td>1.31</td>\n",
       "      <td>1.37</td>\n",
       "      <td>1.33</td>\n",
       "      <td>1.18</td>\n",
       "    </tr>\n",
       "    <tr>\n",
       "      <th>toyota</th>\n",
       "      <td>1.35</td>\n",
       "      <td>2.56</td>\n",
       "      <td>1.3</td>\n",
       "      <td>1.46</td>\n",
       "      <td>1.39</td>\n",
       "      <td>1.19</td>\n",
       "      <td>1.57</td>\n",
       "      <td>1.37</td>\n",
       "      <td>1.55</td>\n",
       "      <td>1.35</td>\n",
       "    </tr>\n",
       "    <tr>\n",
       "      <th>ford</th>\n",
       "      <td>1.19</td>\n",
       "      <td>1.3</td>\n",
       "      <td>3.71</td>\n",
       "      <td>1.27</td>\n",
       "      <td>1.27</td>\n",
       "      <td>1.33</td>\n",
       "      <td>1.4</td>\n",
       "      <td>1.39</td>\n",
       "      <td>1.35</td>\n",
       "      <td>1.02</td>\n",
       "    </tr>\n",
       "    <tr>\n",
       "      <th>nissan</th>\n",
       "      <td>1.32</td>\n",
       "      <td>1.46</td>\n",
       "      <td>1.27</td>\n",
       "      <td>7.03</td>\n",
       "      <td>1.49</td>\n",
       "      <td>1.45</td>\n",
       "      <td>1.74</td>\n",
       "      <td>1.26</td>\n",
       "      <td>2.48</td>\n",
       "      <td>1.14</td>\n",
       "    </tr>\n",
       "    <tr>\n",
       "      <th>hyundai</th>\n",
       "      <td>1.43</td>\n",
       "      <td>1.39</td>\n",
       "      <td>1.27</td>\n",
       "      <td>1.49</td>\n",
       "      <td>7.07</td>\n",
       "      <td>1.23</td>\n",
       "      <td>1.59</td>\n",
       "      <td>1.93</td>\n",
       "      <td>1.63</td>\n",
       "      <td>1.44</td>\n",
       "    </tr>\n",
       "    <tr>\n",
       "      <th>mazda</th>\n",
       "      <td>1.14</td>\n",
       "      <td>1.19</td>\n",
       "      <td>1.33</td>\n",
       "      <td>1.45</td>\n",
       "      <td>1.23</td>\n",
       "      <td>8.04</td>\n",
       "      <td>1.22</td>\n",
       "      <td>0.84</td>\n",
       "      <td>0.94</td>\n",
       "      <td>1</td>\n",
       "    </tr>\n",
       "    <tr>\n",
       "      <th>chevrolet</th>\n",
       "      <td>1.31</td>\n",
       "      <td>1.57</td>\n",
       "      <td>1.4</td>\n",
       "      <td>1.74</td>\n",
       "      <td>1.59</td>\n",
       "      <td>1.22</td>\n",
       "      <td>14.78</td>\n",
       "      <td>2.21</td>\n",
       "      <td>4.6</td>\n",
       "      <td>1.38</td>\n",
       "    </tr>\n",
       "    <tr>\n",
       "      <th>chrysler</th>\n",
       "      <td>1.37</td>\n",
       "      <td>1.37</td>\n",
       "      <td>1.39</td>\n",
       "      <td>1.26</td>\n",
       "      <td>1.93</td>\n",
       "      <td>0.84</td>\n",
       "      <td>2.21</td>\n",
       "      <td>18.05</td>\n",
       "      <td>1.19</td>\n",
       "      <td>3.74</td>\n",
       "    </tr>\n",
       "    <tr>\n",
       "      <th>saturn</th>\n",
       "      <td>1.33</td>\n",
       "      <td>1.55</td>\n",
       "      <td>1.35</td>\n",
       "      <td>2.48</td>\n",
       "      <td>1.63</td>\n",
       "      <td>0.94</td>\n",
       "      <td>4.6</td>\n",
       "      <td>1.19</td>\n",
       "      <td>18.05</td>\n",
       "      <td>1.18</td>\n",
       "    </tr>\n",
       "    <tr>\n",
       "      <th>dodge</th>\n",
       "      <td>1.18</td>\n",
       "      <td>1.35</td>\n",
       "      <td>1.02</td>\n",
       "      <td>1.14</td>\n",
       "      <td>1.44</td>\n",
       "      <td>1</td>\n",
       "      <td>1.38</td>\n",
       "      <td>3.74</td>\n",
       "      <td>1.18</td>\n",
       "      <td>20.79</td>\n",
       "    </tr>\n",
       "  </tbody>\n",
       "</table>\n",
       "</div>"
      ],
      "text/plain": [
       "          honda toyota  ford nissan hyundai mazda chevrolet chrysler saturn  \\\n",
       "honda      2.17   1.35  1.19   1.32    1.43  1.14      1.31     1.37   1.33   \n",
       "toyota     1.35   2.56   1.3   1.46    1.39  1.19      1.57     1.37   1.55   \n",
       "ford       1.19    1.3  3.71   1.27    1.27  1.33       1.4     1.39   1.35   \n",
       "nissan     1.32   1.46  1.27   7.03    1.49  1.45      1.74     1.26   2.48   \n",
       "hyundai    1.43   1.39  1.27   1.49    7.07  1.23      1.59     1.93   1.63   \n",
       "mazda      1.14   1.19  1.33   1.45    1.23  8.04      1.22     0.84   0.94   \n",
       "chevrolet  1.31   1.57   1.4   1.74    1.59  1.22     14.78     2.21    4.6   \n",
       "chrysler   1.37   1.37  1.39   1.26    1.93  0.84      2.21    18.05   1.19   \n",
       "saturn     1.33   1.55  1.35   2.48    1.63  0.94       4.6     1.19  18.05   \n",
       "dodge      1.18   1.35  1.02   1.14    1.44     1      1.38     3.74   1.18   \n",
       "\n",
       "           dodge  \n",
       "honda       1.18  \n",
       "toyota      1.35  \n",
       "ford        1.02  \n",
       "nissan      1.14  \n",
       "hyundai     1.44  \n",
       "mazda          1  \n",
       "chevrolet   1.38  \n",
       "chrysler    3.74  \n",
       "saturn      1.18  \n",
       "dodge      20.79  "
      ]
     },
     "execution_count": 12,
     "metadata": {},
     "output_type": "execute_result"
    }
   ],
   "source": [
    "lift_df"
   ]
  },
  {
   "cell_type": "code",
   "execution_count": 136,
   "metadata": {},
   "outputs": [
    {
     "data": {
      "image/png": "[encoded data removed]",
      "text/plain": [
       "<matplotlib.figure.Figure at 0x118d92290>"
      ]
     },
     "metadata": {},
     "output_type": "display_data"
    }
   ],
   "source": [
    "dissimilarity = 1/lift_df\n",
    "\n",
    "import csv\n",
    "import numpy as np\n",
    "import matplotlib.pyplot as plt\n",
    "from sklearn import manifold\n",
    "\n",
    "adist = np.array(dissimilarity)\n",
    "amax = np.amax(adist)\n",
    "adist /= amax\n",
    "\n",
    "mds = manifold.MDS(n_components=2,metric=False, dissimilarity=\"precomputed\", random_state=6)\n",
    "results = mds.fit(adist)\n",
    "\n",
    "coords = results.embedding_\n",
    "\n",
    "plt.subplots_adjust(bottom = 0.1)\n",
    "plt.scatter(\n",
    "    coords[:, 0], coords[:, 1], marker = 'D'\n",
    "    )\n",
    "for label, x, y in zip(dissimilarity.columns.values, coords[:, 0], coords[:, 1]):\n",
    "    plt.annotate(\n",
    "        label,\n",
    "        xy = (x, y), xytext = (-20, 20),\n",
    "        textcoords = 'offset points', ha = 'left', va = 'bottom',\n",
    "        bbox = dict(boxstyle = 'round,pad=.2', fc = 'orange', alpha = 0.6),\n",
    "        arrowprops = dict(arrowstyle = '->', connectionstyle = 'arc3,rad=0'))\n",
    "\n",
    "plt.show()"
   ]
  },
  {
   "cell_type": "markdown",
   "metadata": {},
   "source": [
    "# Part B"
   ]
  },
  {
   "cell_type": "markdown",
   "metadata": {},
   "source": [
    "# Part C"
   ]
  },
  {
   "cell_type": "code",
   "execution_count": 14,
   "metadata": {
    "collapsed": true
   },
   "outputs": [],
   "source": [
    "attribute_df = pd.read_csv('attributes.csv')\n",
    "attribute_df['Replace'] = attribute_df['Replace'].str.lower()\n",
    "attribute_df['Search'] = attribute_df['Search'].str.lower()\n",
    "attribute_dict = attribute_df.set_index('Search')['Replace'].to_dict()\n"
   ]
  },
  {
   "cell_type": "code",
   "execution_count": 16,
   "metadata": {
    "collapsed": true
   },
   "outputs": [],
   "source": [
    "def attribute_string_process(s):\n",
    "    s=str(s)\n",
    "    lower = s.lower()\n",
    "    for key, value in attribute_dict.items():\n",
    "        lower= lower.replace(key, value)\n",
    "    words = lower.split()\n",
    "    refined = []\n",
    "    for i in words:\n",
    "        if i not in StopWordslist:\n",
    "            refined.append(re.sub(\"[^\\w]+\", \"\", i))\n",
    "    sentence = ' '.join([word for word in refined])\n",
    "    return(sentence)\n",
    "df['attribute_text']=df['message'].map(attribute_string_process)"
   ]
  },
  {
   "cell_type": "code",
   "execution_count": 17,
   "metadata": {
    "collapsed": true
   },
   "outputs": [],
   "source": [
    "attribute_set=set(attribute_dict.values())\n",
    "attribute_count_df=DataFrame(df[['attribute_text','text']])\n",
    "list_5=list(count_series.sort_values(ascending=False)[:5].index)\n",
    "for i in attribute_set:\n",
    "    attribute_count_df[i]=0\n",
    "for i in model_set:\n",
    "    attribute_count_df[i]=0"
   ]
  },
  {
   "cell_type": "code",
   "execution_count": 18,
   "metadata": {
    "collapsed": true
   },
   "outputs": [],
   "source": [
    "def count_attribute():\n",
    "    for num in range(len(attribute_count_df['attribute_text'])):\n",
    "        for i in attribute_set:\n",
    "            if i in attribute_count_df['attribute_text'][num]:\n",
    "                attribute_count_df.loc[num,i]=1\n",
    "count_attribute()\n",
    "def count_brand():\n",
    "    for num in range(len(attribute_count_df['text'])):\n",
    "        for i in model_set:\n",
    "            if i in attribute_count_df['text'][num]:\n",
    "                attribute_count_df.loc[num,i]=1\n",
    "count_brand()"
   ]
  },
  {
   "cell_type": "code",
   "execution_count": 19,
   "metadata": {
    "collapsed": true
   },
   "outputs": [],
   "source": [
    "attribute_count_df.drop(['attribute_text','text'],1, inplace=True)\n",
    "attribute_count_df.loc['Row_sum'] = attribute_count_df.apply(lambda x: x.sum())\n",
    "attribute_count_series=attribute_count_df.T['Row_sum']\n",
    "attribute_count_number=attribute_count_df.drop('Row_sum')"
   ]
  },
  {
   "cell_type": "code",
   "execution_count": 20,
   "metadata": {
    "collapsed": true
   },
   "outputs": [],
   "source": [
    "def conditional_lift(x,y,z):\n",
    "    fraq_z = sum(attribute_count_number[z])\n",
    "    x_y_z=attribute_count_df[[x,y,z]]\n",
    "    x_y_z['Col_sum'] = x_y_z.apply(lambda x: x.sum(), axis=1)\n",
    "    x_y_z['x_z']=x_y_z[x]+x_y_z[z]\n",
    "    x_y_z['y_z']=x_y_z[y]+x_y_z[z]\n",
    "    fraq_x_y_z=len(x_y_z[x_y_z['Col_sum']==3])\n",
    "    fraq_x_z=len(x_y_z[x_y_z['x_z']==2])\n",
    "    fraq_y_z=len(x_y_z[x_y_z['y_z']==2])\n",
    "    if fraq_z*fraq_x_y_z*fraq_x_z*fraq_y_z==0:\n",
    "        return .1\n",
    "    return round((fraq_x_y_z*fraq_z*1.0)/(fraq_y_z*fraq_x_z*1.0),2)\n"
   ]
  },
  {
   "cell_type": "code",
   "execution_count": 21,
   "metadata": {
    "collapsed": true
   },
   "outputs": [],
   "source": [
    "def newlift(a, b):\n",
    "    total = len(attribute_count_number)\n",
    "    fraq_a = sum(attribute_count_number[a])\n",
    "    fraq_b = sum(attribute_count_number[b])\n",
    "    a_b_df= attribute_count_number[[a,b]]\n",
    "    a_b_df['Col_sum'] = a_b_df.apply(lambda x: x.sum(), axis=1)\n",
    "    fraq_a_b=len(a_b_df[a_b_df['Col_sum']==2])\n",
    "    if fraq_a_b==0:\n",
    "        return .1\n",
    "    return round((total*fraq_a_b*1.0)/(fraq_a*fraq_b*1.0),2)"
   ]
  },
  {
   "cell_type": "code",
   "execution_count": 22,
   "metadata": {},
   "outputs": [
    {
     "data": {
      "text/html": [
       "<div>\n",
       "<style>\n",
       "    .dataframe thead tr:only-child th {\n",
       "        text-align: right;\n",
       "    }\n",
       "\n",
       "    .dataframe thead th {\n",
       "        text-align: left;\n",
       "    }\n",
       "\n",
       "    .dataframe tbody tr th {\n",
       "        vertical-align: top;\n",
       "    }\n",
       "</style>\n",
       "<table border=\"1\" class=\"dataframe\">\n",
       "  <thead>\n",
       "    <tr style=\"text-align: right;\">\n",
       "      <th></th>\n",
       "      <th>performance</th>\n",
       "      <th>aesthetics</th>\n",
       "      <th>type</th>\n",
       "      <th>experience</th>\n",
       "      <th>value</th>\n",
       "    </tr>\n",
       "  </thead>\n",
       "  <tbody>\n",
       "    <tr>\n",
       "      <th>honda</th>\n",
       "      <td>1.13</td>\n",
       "      <td>1.23</td>\n",
       "      <td>1.17</td>\n",
       "      <td>1.21</td>\n",
       "      <td>1.19</td>\n",
       "    </tr>\n",
       "    <tr>\n",
       "      <th>toyota</th>\n",
       "      <td>1.17</td>\n",
       "      <td>1.24</td>\n",
       "      <td>1.24</td>\n",
       "      <td>1.41</td>\n",
       "      <td>1.21</td>\n",
       "    </tr>\n",
       "    <tr>\n",
       "      <th>ford</th>\n",
       "      <td>1.12</td>\n",
       "      <td>1.13</td>\n",
       "      <td>1.17</td>\n",
       "      <td>1.21</td>\n",
       "      <td>1.16</td>\n",
       "    </tr>\n",
       "    <tr>\n",
       "      <th>nissan</th>\n",
       "      <td>1.17</td>\n",
       "      <td>1.26</td>\n",
       "      <td>1.26</td>\n",
       "      <td>1.15</td>\n",
       "      <td>1.14</td>\n",
       "    </tr>\n",
       "    <tr>\n",
       "      <th>hyundai</th>\n",
       "      <td>1.12</td>\n",
       "      <td>1.42</td>\n",
       "      <td>1.16</td>\n",
       "      <td>1.36</td>\n",
       "      <td>1.22</td>\n",
       "    </tr>\n",
       "  </tbody>\n",
       "</table>\n",
       "</div>"
      ],
      "text/plain": [
       "        performance aesthetics  type experience value\n",
       "honda          1.13       1.23  1.17       1.21  1.19\n",
       "toyota         1.17       1.24  1.24       1.41  1.21\n",
       "ford           1.12       1.13  1.17       1.21  1.16\n",
       "nissan         1.17       1.26  1.26       1.15  1.14\n",
       "hyundai        1.12       1.42  1.16       1.36  1.22"
      ]
     },
     "execution_count": 22,
     "metadata": {},
     "output_type": "execute_result"
    }
   ],
   "source": [
    "attribute_lift_df=pd.DataFrame(columns=list(attribute_set), index=list_5)\n",
    "for i in list_5:\n",
    "    for j in list(attribute_set):\n",
    "        attribute_lift_df.loc[i,j]=newlift(i,j)\n",
    "attribute_lift_df"
   ]
  },
  {
   "cell_type": "code",
   "execution_count": 64,
   "metadata": {
    "collapsed": true
   },
   "outputs": [],
   "source": [
    "\n",
    "import networkx as nx    \n",
    "G = nx.DiGraph()\n",
    "for i in list_10:\n",
    "    for j in list_10:\n",
    "        G.add_weighted_edges_from([(i,j,1/lift(i,j))])"
   ]
  },
  {
   "cell_type": "code",
   "execution_count": 65,
   "metadata": {},
   "outputs": [
    {
     "data": {
      "text/plain": [
       "{'chevrolet': 0.05555555555555555,\n",
       " 'chrysler': 0.027777777777777776,\n",
       " 'dodge': 0.0,\n",
       " 'ford': 0.0,\n",
       " 'honda': 0.0,\n",
       " 'hyundai': 0.0,\n",
       " 'mazda': 0.0,\n",
       " 'nissan': 0.0,\n",
       " 'saturn': 0.0,\n",
       " 'toyota': 0.0}"
      ]
     },
     "execution_count": 65,
     "metadata": {},
     "output_type": "execute_result"
    }
   ],
   "source": [
    "nx.betweenness_centrality(G, weight='weight') "
   ]
  },
  {
   "cell_type": "code",
   "execution_count": 66,
   "metadata": {},
   "outputs": [
    {
     "data": {
      "text/plain": [
       "{'chevrolet': 1.6281780100313363,\n",
       " 'chrysler': 1.4823871326035825,\n",
       " 'dodge': 1.2903348596727868,\n",
       " 'ford': 1.269197882792898,\n",
       " 'honda': 1.2842888302740842,\n",
       " 'hyundai': 1.4645379910308958,\n",
       " 'mazda': 1.1222947259905205,\n",
       " 'nissan': 1.4424262353626038,\n",
       " 'saturn': 1.5186549477094113,\n",
       " 'toyota': 1.383033338050816}"
      ]
     },
     "execution_count": 66,
     "metadata": {},
     "output_type": "execute_result"
    }
   ],
   "source": [
    "nx.closeness_centrality(G, distance='weight') "
   ]
  },
  {
   "cell_type": "code",
   "execution_count": 71,
   "metadata": {},
   "outputs": [
    {
     "data": {
      "image/png": "[encoded data removed]",
      "text/plain": [
       "<matplotlib.figure.Figure at 0x118ce4290>"
      ]
     },
     "metadata": {},
     "output_type": "display_data"
    }
   ],
   "source": [
    "nx.draw(G,with_labels=True, alpha=0.5, edge_color='yellow', weight='weight')"
   ]
  },
  {
   "cell_type": "code",
   "execution_count": 80,
   "metadata": {
    "collapsed": true
   },
   "outputs": [],
   "source": [
    "performance_lift_df=pd.DataFrame(columns=list_10, index=list_10)\n",
    "for i in list_10:\n",
    "    for j in list_10:\n",
    "        if i!=j:\n",
    "            performance_lift_df.loc[i,j]=conditional_lift(i,j,'performance')\n"
   ]
  },
  {
   "cell_type": "code",
   "execution_count": 81,
   "metadata": {},
   "outputs": [
    {
     "data": {
      "text/html": [
       "<div>\n",
       "<style>\n",
       "    .dataframe thead tr:only-child th {\n",
       "        text-align: right;\n",
       "    }\n",
       "\n",
       "    .dataframe thead th {\n",
       "        text-align: left;\n",
       "    }\n",
       "\n",
       "    .dataframe tbody tr th {\n",
       "        vertical-align: top;\n",
       "    }\n",
       "</style>\n",
       "<table border=\"1\" class=\"dataframe\">\n",
       "  <thead>\n",
       "    <tr style=\"text-align: right;\">\n",
       "      <th></th>\n",
       "      <th>honda</th>\n",
       "      <th>toyota</th>\n",
       "      <th>ford</th>\n",
       "      <th>nissan</th>\n",
       "      <th>hyundai</th>\n",
       "      <th>mazda</th>\n",
       "      <th>chevrolet</th>\n",
       "      <th>chrysler</th>\n",
       "      <th>saturn</th>\n",
       "      <th>dodge</th>\n",
       "    </tr>\n",
       "  </thead>\n",
       "  <tbody>\n",
       "    <tr>\n",
       "      <th>honda</th>\n",
       "      <td>NaN</td>\n",
       "      <td>1.25</td>\n",
       "      <td>1.18</td>\n",
       "      <td>1.27</td>\n",
       "      <td>1.35</td>\n",
       "      <td>1.08</td>\n",
       "      <td>1.25</td>\n",
       "      <td>1.32</td>\n",
       "      <td>1.23</td>\n",
       "      <td>1.09</td>\n",
       "    </tr>\n",
       "    <tr>\n",
       "      <th>toyota</th>\n",
       "      <td>1.25</td>\n",
       "      <td>NaN</td>\n",
       "      <td>1.28</td>\n",
       "      <td>1.38</td>\n",
       "      <td>1.29</td>\n",
       "      <td>1.15</td>\n",
       "      <td>1.42</td>\n",
       "      <td>1.4</td>\n",
       "      <td>1.31</td>\n",
       "      <td>1.41</td>\n",
       "    </tr>\n",
       "    <tr>\n",
       "      <th>ford</th>\n",
       "      <td>1.18</td>\n",
       "      <td>1.28</td>\n",
       "      <td>NaN</td>\n",
       "      <td>1.24</td>\n",
       "      <td>1.32</td>\n",
       "      <td>1.29</td>\n",
       "      <td>1.28</td>\n",
       "      <td>1.36</td>\n",
       "      <td>1.1</td>\n",
       "      <td>0.91</td>\n",
       "    </tr>\n",
       "    <tr>\n",
       "      <th>nissan</th>\n",
       "      <td>1.27</td>\n",
       "      <td>1.38</td>\n",
       "      <td>1.24</td>\n",
       "      <td>NaN</td>\n",
       "      <td>1.43</td>\n",
       "      <td>1.41</td>\n",
       "      <td>1.76</td>\n",
       "      <td>1.45</td>\n",
       "      <td>2.28</td>\n",
       "      <td>1.27</td>\n",
       "    </tr>\n",
       "    <tr>\n",
       "      <th>hyundai</th>\n",
       "      <td>1.35</td>\n",
       "      <td>1.29</td>\n",
       "      <td>1.32</td>\n",
       "      <td>1.43</td>\n",
       "      <td>NaN</td>\n",
       "      <td>1.15</td>\n",
       "      <td>1.53</td>\n",
       "      <td>1.9</td>\n",
       "      <td>1.57</td>\n",
       "      <td>1.13</td>\n",
       "    </tr>\n",
       "    <tr>\n",
       "      <th>mazda</th>\n",
       "      <td>1.08</td>\n",
       "      <td>1.15</td>\n",
       "      <td>1.29</td>\n",
       "      <td>1.41</td>\n",
       "      <td>1.15</td>\n",
       "      <td>NaN</td>\n",
       "      <td>1.15</td>\n",
       "      <td>0.7</td>\n",
       "      <td>0.69</td>\n",
       "      <td>0.94</td>\n",
       "    </tr>\n",
       "    <tr>\n",
       "      <th>chevrolet</th>\n",
       "      <td>1.25</td>\n",
       "      <td>1.42</td>\n",
       "      <td>1.28</td>\n",
       "      <td>1.76</td>\n",
       "      <td>1.53</td>\n",
       "      <td>1.15</td>\n",
       "      <td>NaN</td>\n",
       "      <td>2.08</td>\n",
       "      <td>3.64</td>\n",
       "      <td>1.39</td>\n",
       "    </tr>\n",
       "    <tr>\n",
       "      <th>chrysler</th>\n",
       "      <td>1.32</td>\n",
       "      <td>1.4</td>\n",
       "      <td>1.36</td>\n",
       "      <td>1.45</td>\n",
       "      <td>1.9</td>\n",
       "      <td>0.7</td>\n",
       "      <td>2.08</td>\n",
       "      <td>NaN</td>\n",
       "      <td>1.09</td>\n",
       "      <td>3.39</td>\n",
       "    </tr>\n",
       "    <tr>\n",
       "      <th>saturn</th>\n",
       "      <td>1.23</td>\n",
       "      <td>1.31</td>\n",
       "      <td>1.1</td>\n",
       "      <td>2.28</td>\n",
       "      <td>1.57</td>\n",
       "      <td>0.69</td>\n",
       "      <td>3.64</td>\n",
       "      <td>1.09</td>\n",
       "      <td>NaN</td>\n",
       "      <td>1.24</td>\n",
       "    </tr>\n",
       "    <tr>\n",
       "      <th>dodge</th>\n",
       "      <td>1.09</td>\n",
       "      <td>1.41</td>\n",
       "      <td>0.91</td>\n",
       "      <td>1.27</td>\n",
       "      <td>1.13</td>\n",
       "      <td>0.94</td>\n",
       "      <td>1.39</td>\n",
       "      <td>3.39</td>\n",
       "      <td>1.24</td>\n",
       "      <td>NaN</td>\n",
       "    </tr>\n",
       "  </tbody>\n",
       "</table>\n",
       "</div>"
      ],
      "text/plain": [
       "          honda toyota  ford nissan hyundai mazda chevrolet chrysler saturn  \\\n",
       "honda       NaN   1.25  1.18   1.27    1.35  1.08      1.25     1.32   1.23   \n",
       "toyota     1.25    NaN  1.28   1.38    1.29  1.15      1.42      1.4   1.31   \n",
       "ford       1.18   1.28   NaN   1.24    1.32  1.29      1.28     1.36    1.1   \n",
       "nissan     1.27   1.38  1.24    NaN    1.43  1.41      1.76     1.45   2.28   \n",
       "hyundai    1.35   1.29  1.32   1.43     NaN  1.15      1.53      1.9   1.57   \n",
       "mazda      1.08   1.15  1.29   1.41    1.15   NaN      1.15      0.7   0.69   \n",
       "chevrolet  1.25   1.42  1.28   1.76    1.53  1.15       NaN     2.08   3.64   \n",
       "chrysler   1.32    1.4  1.36   1.45     1.9   0.7      2.08      NaN   1.09   \n",
       "saturn     1.23   1.31   1.1   2.28    1.57  0.69      3.64     1.09    NaN   \n",
       "dodge      1.09   1.41  0.91   1.27    1.13  0.94      1.39     3.39   1.24   \n",
       "\n",
       "          dodge  \n",
       "honda      1.09  \n",
       "toyota     1.41  \n",
       "ford       0.91  \n",
       "nissan     1.27  \n",
       "hyundai    1.13  \n",
       "mazda      0.94  \n",
       "chevrolet  1.39  \n",
       "chrysler   3.39  \n",
       "saturn     1.24  \n",
       "dodge       NaN  "
      ]
     },
     "execution_count": 81,
     "metadata": {},
     "output_type": "execute_result"
    }
   ],
   "source": [
    "performance_lift_df"
   ]
  },
  {
   "cell_type": "code",
   "execution_count": 88,
   "metadata": {
    "collapsed": true
   },
   "outputs": [],
   "source": [
    "import networkx as nx    \n",
    "G = nx.DiGraph()\n",
    "for i in list_5:\n",
    "    for j in list_5:\n",
    "        if i!=j:\n",
    "            G.add_weighted_edges_from([(i,j,1/conditional_lift(i,j,'experience'))])"
   ]
  },
  {
   "cell_type": "code",
   "execution_count": 89,
   "metadata": {},
   "outputs": [
    {
     "data": {
      "text/plain": [
       "{'ford': 1.2266259611425714,\n",
       " 'honda': 1.2209679173463839,\n",
       " 'hyundai': 1.2485598062254597,\n",
       " 'nissan': 1.299116323366536,\n",
       " 'toyota': 1.1842948121645795}"
      ]
     },
     "execution_count": 89,
     "metadata": {},
     "output_type": "execute_result"
    }
   ],
   "source": [
    "nx.closeness_centrality(G, distance='weight') "
   ]
  },
  {
   "cell_type": "code",
   "execution_count": 90,
   "metadata": {
    "scrolled": true
   },
   "outputs": [
    {
     "data": {
      "text/plain": [
       "{'ford': 0.0, 'honda': 0.0, 'hyundai': 0.0, 'nissan': 0.0, 'toyota': 0.0}"
      ]
     },
     "execution_count": 90,
     "metadata": {},
     "output_type": "execute_result"
    }
   ],
   "source": [
    "nx.betweenness_centrality(G, weight='weight') "
   ]
  },
  {
   "cell_type": "code",
   "execution_count": 147,
   "metadata": {
    "collapsed": true
   },
   "outputs": [],
   "source": [
    "def bmw(s):\n",
    "    if 'bmw' in s:\n",
    "        return 1\n",
    "    else:\n",
    "        return 0\n",
    "df['bmw']=df['text'].map(bmw)\n",
    "attribute_count_df=df[['attribute_text','bmw']]\n",
    "for i in attribute_set:\n",
    "    attribute_count_df[i]=0\n",
    "count_attribute()"
   ]
  },
  {
   "cell_type": "code",
   "execution_count": 149,
   "metadata": {},
   "outputs": [
    {
     "data": {
      "text/plain": [
       "1.75"
      ]
     },
     "execution_count": 149,
     "metadata": {},
     "output_type": "execute_result"
    }
   ],
   "source": [
    "newlift('bmw','experience')"
   ]
  },
  {
   "cell_type": "code",
   "execution_count": 150,
   "metadata": {},
   "outputs": [
    {
     "data": {
      "text/plain": [
       "1.57"
      ]
     },
     "execution_count": 150,
     "metadata": {},
     "output_type": "execute_result"
    }
   ],
   "source": [
    "newlift('bmw','performance')"
   ]
  },
  {
   "cell_type": "code",
   "execution_count": 151,
   "metadata": {},
   "outputs": [
    {
     "data": {
      "text/plain": [
       "1.08"
      ]
     },
     "execution_count": 151,
     "metadata": {},
     "output_type": "execute_result"
    }
   ],
   "source": [
    "newlift('bmw','value')"
   ]
  },
  {
   "cell_type": "markdown",
   "metadata": {},
   "source": [
    "# Part E"
   ]
  },
  {
   "cell_type": "code",
   "execution_count": 120,
   "metadata": {
    "collapsed": true
   },
   "outputs": [],
   "source": [
    "def purchase(s):\n",
    "    if 'buy' in s or 'purchase' in s:\n",
    "        return 1\n",
    "    else:\n",
    "        return 0"
   ]
  },
  {
   "cell_type": "code",
   "execution_count": 121,
   "metadata": {
    "collapsed": true,
    "scrolled": true
   },
   "outputs": [],
   "source": [
    "df['purchase']=df['text'].map(purchase)\n",
    "count_df=df[['text','purchase']]\n",
    "def count_brand():\n",
    "    for num in range(len(count_df['text'])):\n",
    "        for i in model_set:\n",
    "            if i in count_df['text'][num]:\n",
    "                count_df.loc[num,i]=1\n",
    "count_brand()"
   ]
  },
  {
   "cell_type": "code",
   "execution_count": 122,
   "metadata": {
    "collapsed": true
   },
   "outputs": [],
   "source": [
    "def conditional_lift_purchase(x,y):\n",
    "    fraq_z = sum(df['purchase'])\n",
    "    x_y_z=count_df[[x,y,'purchase']]\n",
    "    x_y_z['Col_sum'] = x_y_z.apply(lambda x: x.sum(), axis=1)\n",
    "    x_y_z['x_z']=x_y_z[x]+x_y_z['purchase']\n",
    "    x_y_z['y_z']=x_y_z[y]+x_y_z['purchase']\n",
    "    fraq_x_y_z=len(x_y_z[x_y_z['Col_sum']==3])\n",
    "    fraq_x_z=len(x_y_z[x_y_z['x_z']==2])\n",
    "    fraq_y_z=len(x_y_z[x_y_z['y_z']==2])\n",
    "    if fraq_z*fraq_x_y_z*fraq_x_z*fraq_y_z==0:\n",
    "        return .1\n",
    "    return round((fraq_x_y_z*fraq_z*1.0)/(fraq_y_z*fraq_x_z*1.0),2)"
   ]
  },
  {
   "cell_type": "code",
   "execution_count": 127,
   "metadata": {
    "collapsed": true
   },
   "outputs": [],
   "source": [
    "import networkx as nx    \n",
    "G = nx.DiGraph()\n",
    "for i in list_10:\n",
    "    for j in list_10:\n",
    "        if i!=j:\n",
    "            G.add_weighted_edges_from([(i,j,conditional_lift_purchase(i,j))])"
   ]
  },
  {
   "cell_type": "code",
   "execution_count": 128,
   "metadata": {},
   "outputs": [
    {
     "data": {
      "text/plain": [
       "{'chevrolet': 0.6907137375287796,\n",
       " 'chrysler': 0.8466603951081844,\n",
       " 'dodge': 0.7908611599297012,\n",
       " 'ford': 0.7705479452054795,\n",
       " 'honda': 0.8695652173913042,\n",
       " 'hyundai': 0.774526678141136,\n",
       " 'mazda': 0.9782608695652173,\n",
       " 'nissan': 0.7234726688102893,\n",
       " 'saturn': 0.7745266781411361,\n",
       " 'toyota': 0.8249312557286893}"
      ]
     },
     "execution_count": 128,
     "metadata": {},
     "output_type": "execute_result"
    }
   ],
   "source": [
    "nx.closeness_centrality(G, distance='weight') "
   ]
  },
  {
   "cell_type": "code",
   "execution_count": 172,
   "metadata": {},
   "outputs": [
    {
     "data": {
      "image/png": "[encoded data removed]",
      "text/plain": [
       "<matplotlib.figure.Figure at 0x1182c2450>"
      ]
     },
     "metadata": {},
     "output_type": "display_data"
    }
   ],
   "source": [
    "nx.draw(G,with_labels=True, alpha=0.5, edge_color='yellow', weight='weight', pos = nx.spectral_layout(G))"
   ]
  }
 ],
 "metadata": {
  "anaconda-cloud": {},
  "kernelspec": {
   "display_name": "Python [default]",
   "language": "python",
   "name": "python2"
  },
  "language_info": {
   "codemirror_mode": {
    "name": "ipython",
    "version": 2
   },
   "file_extension": ".py",
   "mimetype": "text/x-python",
   "name": "python",
   "nbconvert_exporter": "python",
   "pygments_lexer": "ipython2",
   "version": "2.7.13"
  }
 },
 "nbformat": 4,
 "nbformat_minor": 2
}
