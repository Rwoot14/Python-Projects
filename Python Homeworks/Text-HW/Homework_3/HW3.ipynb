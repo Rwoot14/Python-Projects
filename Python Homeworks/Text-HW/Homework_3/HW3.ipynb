{
 "cells": [
  {
   "cell_type": "markdown",
   "metadata": {},
   "source": [
    "# Text Analysis Homework 3\n",
    "<br>\n",
    "## Daxi Cheng, Jianjie Zheng, Reece Wooten, Nick Scheifler"
   ]
  },
  {
   "cell_type": "code",
   "execution_count": 45,
   "metadata": {},
   "outputs": [
    {
     "name": "stdout",
     "output_type": "stream",
     "text": [
      "Populating the interactive namespace from numpy and matplotlib\n"
     ]
    }
   ],
   "source": [
    "import pandas as pd\n",
    "import nltk\n",
    "from pylab import *\n",
    "import numpy as np\n",
    "import matplotlib.pyplot as plt\n",
    "import seaborn as sns\n",
    "import warnings\n",
    "import networkx as nx\n",
    "from pandas import Series,DataFrame\n",
    "warnings.filterwarnings(\"ignore\")\n",
    "%matplotlib inline  \n",
    "%pylab inline"
   ]
  },
  {
   "cell_type": "markdown",
   "metadata": {},
   "source": [
    "# Task A"
   ]
  },
  {
   "cell_type": "code",
   "execution_count": 2,
   "metadata": {},
   "outputs": [
    {
     "data": {
      "text/html": [
       "<div>\n",
       "<style>\n",
       "    .dataframe thead tr:only-child th {\n",
       "        text-align: right;\n",
       "    }\n",
       "\n",
       "    .dataframe thead th {\n",
       "        text-align: left;\n",
       "    }\n",
       "\n",
       "    .dataframe tbody tr th {\n",
       "        vertical-align: top;\n",
       "    }\n",
       "</style>\n",
       "<table border=\"1\" class=\"dataframe\">\n",
       "  <thead>\n",
       "    <tr style=\"text-align: right;\">\n",
       "      <th></th>\n",
       "      <th>ES</th>\n",
       "      <th>LS</th>\n",
       "      <th>RX</th>\n",
       "      <th>A8</th>\n",
       "      <th>A6</th>\n",
       "      <th>3series</th>\n",
       "      <th>5series</th>\n",
       "      <th>7series</th>\n",
       "      <th>XJ</th>\n",
       "      <th>Sclass</th>\n",
       "    </tr>\n",
       "  </thead>\n",
       "  <tbody>\n",
       "    <tr>\n",
       "      <th>0</th>\n",
       "      <td>NaN</td>\n",
       "      <td>NaN</td>\n",
       "      <td>4.0</td>\n",
       "      <td>3.0</td>\n",
       "      <td>NaN</td>\n",
       "      <td>NaN</td>\n",
       "      <td>NaN</td>\n",
       "      <td>5.0</td>\n",
       "      <td>2.0</td>\n",
       "      <td>1.0</td>\n",
       "    </tr>\n",
       "    <tr>\n",
       "      <th>1</th>\n",
       "      <td>NaN</td>\n",
       "      <td>NaN</td>\n",
       "      <td>3.0</td>\n",
       "      <td>2.0</td>\n",
       "      <td>2.0</td>\n",
       "      <td>2.0</td>\n",
       "      <td>2.0</td>\n",
       "      <td>2.0</td>\n",
       "      <td>NaN</td>\n",
       "      <td>NaN</td>\n",
       "    </tr>\n",
       "    <tr>\n",
       "      <th>2</th>\n",
       "      <td>NaN</td>\n",
       "      <td>4.0</td>\n",
       "      <td>NaN</td>\n",
       "      <td>NaN</td>\n",
       "      <td>NaN</td>\n",
       "      <td>3.0</td>\n",
       "      <td>NaN</td>\n",
       "      <td>3.0</td>\n",
       "      <td>NaN</td>\n",
       "      <td>3.0</td>\n",
       "    </tr>\n",
       "    <tr>\n",
       "      <th>3</th>\n",
       "      <td>NaN</td>\n",
       "      <td>2.0</td>\n",
       "      <td>NaN</td>\n",
       "      <td>2.0</td>\n",
       "      <td>NaN</td>\n",
       "      <td>NaN</td>\n",
       "      <td>NaN</td>\n",
       "      <td>2.0</td>\n",
       "      <td>4.0</td>\n",
       "      <td>2.0</td>\n",
       "    </tr>\n",
       "    <tr>\n",
       "      <th>4</th>\n",
       "      <td>NaN</td>\n",
       "      <td>3.0</td>\n",
       "      <td>3.0</td>\n",
       "      <td>NaN</td>\n",
       "      <td>NaN</td>\n",
       "      <td>NaN</td>\n",
       "      <td>2.0</td>\n",
       "      <td>NaN</td>\n",
       "      <td>NaN</td>\n",
       "      <td>3.0</td>\n",
       "    </tr>\n",
       "  </tbody>\n",
       "</table>\n",
       "</div>"
      ],
      "text/plain": [
       "   ES   LS   RX   A8   A6  3series  5series  7series   XJ  Sclass\n",
       "0 NaN  NaN  4.0  3.0  NaN      NaN      NaN      5.0  2.0     1.0\n",
       "1 NaN  NaN  3.0  2.0  2.0      2.0      2.0      2.0  NaN     NaN\n",
       "2 NaN  4.0  NaN  NaN  NaN      3.0      NaN      3.0  NaN     3.0\n",
       "3 NaN  2.0  NaN  2.0  NaN      NaN      NaN      2.0  4.0     2.0\n",
       "4 NaN  3.0  3.0  NaN  NaN      NaN      2.0      NaN  NaN     3.0"
      ]
     },
     "execution_count": 2,
     "metadata": {},
     "output_type": "execute_result"
    }
   ],
   "source": [
    "sent_scores = pd.read_csv('assignment 3 sentiment scores.csv')\n",
    "sent_scores.head()"
   ]
  },
  {
   "cell_type": "code",
   "execution_count": 5,
   "metadata": {
    "collapsed": true
   },
   "outputs": [],
   "source": [
    "modelset=set(sent_scores.columns)"
   ]
  },
  {
   "cell_type": "code",
   "execution_count": 18,
   "metadata": {
    "collapsed": true
   },
   "outputs": [],
   "source": [
    "def newcompare(a,b):\n",
    "    '''newcompare a and b to get the direction and weight\n",
    "    if tie, then return noting'''\n",
    "    maska=sent_scores[a].notnull()\n",
    "    maskb=sent_scores[b].notnull()\n",
    "    masked=sent_scores[maska&maskb]\n",
    "    abmask=masked[masked[a]>masked[b]]\n",
    "    if len(abmask)!=0:\n",
    "        difab=round(sum(abmask[a]-abmask[b])/len(abmask),2)\n",
    "        return (a,b,difab)\n",
    "    else:\n",
    "        return"
   ]
  },
  {
   "cell_type": "code",
   "execution_count": 20,
   "metadata": {
    "collapsed": true
   },
   "outputs": [],
   "source": [
    "from itertools import combinations\n",
    "newcompare_result=[]\n",
    "model_combine=list(combinations(modelset,2))\n",
    "for i in model_combine:\n",
    "    newcompare_result.append(newcompare(i[0],i[1]))\n",
    "    newcompare_result.append(newcompare(i[1],i[0]))\n",
    "newcompare_result=[str for str in newcompare_result if str not in [None]]"
   ]
  },
  {
   "cell_type": "code",
   "execution_count": 130,
   "metadata": {},
   "outputs": [
    {
     "data": {
      "image/png": "[encoded data removed]",
      "text/plain": [
       "<matplotlib.figure.Figure at 0x115143a90>"
      ]
     },
     "metadata": {},
     "output_type": "display_data"
    }
   ],
   "source": [
    "fig = plt.figure(figsize=(12, 12))\n",
    "G = nx.MultiDiGraph() \n",
    "for i in newcompare_result:\n",
    "    G.add_edge(i[0], i[1], weight=i[2])\n",
    "edge_labels=dict([((u,v,),d['weight']) for u,v,d in G.edges(data=True)])\n",
    "pos = nx.shell_layout(G)\n",
    "nx.draw_networkx_edge_labels(G,pos,edge_labels=edge_labels)    \n",
    "nx.draw(G, pos=pos, arrows=True, with_labels=True,node_size=2000)\n",
    "\n",
    "plt.show()"
   ]
  },
  {
   "cell_type": "markdown",
   "metadata": {},
   "source": [
    "Weighted graph:https://networkx.github.io/documentation/networkx-1.9/examples/drawing/weighted_graph.html"
   ]
  },
  {
   "cell_type": "markdown",
   "metadata": {},
   "source": [
    "# Task B"
   ]
  },
  {
   "cell_type": "code",
   "execution_count": 22,
   "metadata": {},
   "outputs": [
    {
     "data": {
      "text/html": [
       "<div>\n",
       "<style>\n",
       "    .dataframe thead tr:only-child th {\n",
       "        text-align: right;\n",
       "    }\n",
       "\n",
       "    .dataframe thead th {\n",
       "        text-align: left;\n",
       "    }\n",
       "\n",
       "    .dataframe tbody tr th {\n",
       "        vertical-align: top;\n",
       "    }\n",
       "</style>\n",
       "<table border=\"1\" class=\"dataframe\">\n",
       "  <thead>\n",
       "    <tr style=\"text-align: right;\">\n",
       "      <th></th>\n",
       "      <th>Model</th>\n",
       "      <th>Sales</th>\n",
       "    </tr>\n",
       "  </thead>\n",
       "  <tbody>\n",
       "    <tr>\n",
       "      <th>0</th>\n",
       "      <td>A6</td>\n",
       "      <td>20000</td>\n",
       "    </tr>\n",
       "    <tr>\n",
       "      <th>1</th>\n",
       "      <td>A8</td>\n",
       "      <td>12000</td>\n",
       "    </tr>\n",
       "    <tr>\n",
       "      <th>2</th>\n",
       "      <td>3series</td>\n",
       "      <td>220000</td>\n",
       "    </tr>\n",
       "    <tr>\n",
       "      <th>3</th>\n",
       "      <td>5series</td>\n",
       "      <td>60000</td>\n",
       "    </tr>\n",
       "    <tr>\n",
       "      <th>4</th>\n",
       "      <td>7series</td>\n",
       "      <td>14000</td>\n",
       "    </tr>\n",
       "    <tr>\n",
       "      <th>5</th>\n",
       "      <td>XJ</td>\n",
       "      <td>6600</td>\n",
       "    </tr>\n",
       "    <tr>\n",
       "      <th>6</th>\n",
       "      <td>ES</td>\n",
       "      <td>135000</td>\n",
       "    </tr>\n",
       "    <tr>\n",
       "      <th>7</th>\n",
       "      <td>LS</td>\n",
       "      <td>30000</td>\n",
       "    </tr>\n",
       "    <tr>\n",
       "      <th>8</th>\n",
       "      <td>RX</td>\n",
       "      <td>120000</td>\n",
       "    </tr>\n",
       "    <tr>\n",
       "      <th>9</th>\n",
       "      <td>Sclass</td>\n",
       "      <td>25000</td>\n",
       "    </tr>\n",
       "  </tbody>\n",
       "</table>\n",
       "</div>"
      ],
      "text/plain": [
       "     Model   Sales\n",
       "0       A6   20000\n",
       "1       A8   12000\n",
       "2  3series  220000\n",
       "3  5series   60000\n",
       "4  7series   14000\n",
       "5       XJ    6600\n",
       "6       ES  135000\n",
       "7       LS   30000\n",
       "8       RX  120000\n",
       "9   Sclass   25000"
      ]
     },
     "execution_count": 22,
     "metadata": {},
     "output_type": "execute_result"
    }
   ],
   "source": [
    "models = ['A6','A8','3series','5series','7series','XJ','ES','LS','RX','Sclass']\n",
    "sales = [20000,12000,220000,60000,14000,6600,135000,30000,120000,25000]\n",
    "sales_df = pd.DataFrame({\n",
    "    'Model':models,\n",
    "    'Sales':sales\n",
    "})\n",
    "sales_df"
   ]
  },
  {
   "cell_type": "code",
   "execution_count": 47,
   "metadata": {
    "collapsed": true
   },
   "outputs": [],
   "source": [
    "PR = nx.Graph()\n",
    "for u,v,d in G.edges(data=True):\n",
    "    w = d['weight']\n",
    "    if PR.has_edge(u,v):\n",
    "        PR[u][v]['weight'] += w\n",
    "    else:\n",
    "        PR.add_edge(u,v,weight=w)"
   ]
  },
  {
   "cell_type": "code",
   "execution_count": 49,
   "metadata": {
    "collapsed": true
   },
   "outputs": [],
   "source": [
    "w_pr = nx.pagerank(PR)\n",
    "w_pr=pd.DataFrame(Series(w_pr),columns=['PR']).reset_index()\n",
    "uw_pr = nx.pagerank(PR,weight='None')\n",
    "uw_pr=pd.DataFrame(Series(uw_pr),columns=['PR']).reset_index()"
   ]
  },
  {
   "cell_type": "code",
   "execution_count": 188,
   "metadata": {
    "scrolled": true
   },
   "outputs": [
    {
     "data": {
      "text/html": [
       "<div>\n",
       "<style>\n",
       "    .dataframe thead tr:only-child th {\n",
       "        text-align: right;\n",
       "    }\n",
       "\n",
       "    .dataframe thead th {\n",
       "        text-align: left;\n",
       "    }\n",
       "\n",
       "    .dataframe tbody tr th {\n",
       "        vertical-align: top;\n",
       "    }\n",
       "</style>\n",
       "<table border=\"1\" class=\"dataframe\">\n",
       "  <thead>\n",
       "    <tr style=\"text-align: right;\">\n",
       "      <th></th>\n",
       "      <th>Model</th>\n",
       "      <th>PR_unweighted</th>\n",
       "      <th>PR_weighted</th>\n",
       "      <th>Sales</th>\n",
       "    </tr>\n",
       "  </thead>\n",
       "  <tbody>\n",
       "    <tr>\n",
       "      <th>0</th>\n",
       "      <td>3series</td>\n",
       "      <td>0.092056</td>\n",
       "      <td>0.120342</td>\n",
       "      <td>220000</td>\n",
       "    </tr>\n",
       "    <tr>\n",
       "      <th>1</th>\n",
       "      <td>5series</td>\n",
       "      <td>0.092056</td>\n",
       "      <td>0.096648</td>\n",
       "      <td>60000</td>\n",
       "    </tr>\n",
       "    <tr>\n",
       "      <th>2</th>\n",
       "      <td>7series</td>\n",
       "      <td>0.101986</td>\n",
       "      <td>0.105182</td>\n",
       "      <td>14000</td>\n",
       "    </tr>\n",
       "    <tr>\n",
       "      <th>3</th>\n",
       "      <td>A6</td>\n",
       "      <td>0.101986</td>\n",
       "      <td>0.099574</td>\n",
       "      <td>20000</td>\n",
       "    </tr>\n",
       "    <tr>\n",
       "      <th>4</th>\n",
       "      <td>A8</td>\n",
       "      <td>0.101986</td>\n",
       "      <td>0.106371</td>\n",
       "      <td>12000</td>\n",
       "    </tr>\n",
       "    <tr>\n",
       "      <th>5</th>\n",
       "      <td>ES</td>\n",
       "      <td>0.101986</td>\n",
       "      <td>0.111851</td>\n",
       "      <td>135000</td>\n",
       "    </tr>\n",
       "    <tr>\n",
       "      <th>6</th>\n",
       "      <td>LS</td>\n",
       "      <td>0.101986</td>\n",
       "      <td>0.100456</td>\n",
       "      <td>30000</td>\n",
       "    </tr>\n",
       "    <tr>\n",
       "      <th>7</th>\n",
       "      <td>RX</td>\n",
       "      <td>0.101986</td>\n",
       "      <td>0.086458</td>\n",
       "      <td>120000</td>\n",
       "    </tr>\n",
       "    <tr>\n",
       "      <th>8</th>\n",
       "      <td>Sclass</td>\n",
       "      <td>0.101986</td>\n",
       "      <td>0.102859</td>\n",
       "      <td>25000</td>\n",
       "    </tr>\n",
       "    <tr>\n",
       "      <th>9</th>\n",
       "      <td>XJ</td>\n",
       "      <td>0.101986</td>\n",
       "      <td>0.070260</td>\n",
       "      <td>6600</td>\n",
       "    </tr>\n",
       "  </tbody>\n",
       "</table>\n",
       "</div>"
      ],
      "text/plain": [
       "     Model  PR_unweighted  PR_weighted   Sales\n",
       "0  3series       0.092056     0.120342  220000\n",
       "1  5series       0.092056     0.096648   60000\n",
       "2  7series       0.101986     0.105182   14000\n",
       "3       A6       0.101986     0.099574   20000\n",
       "4       A8       0.101986     0.106371   12000\n",
       "5       ES       0.101986     0.111851  135000\n",
       "6       LS       0.101986     0.100456   30000\n",
       "7       RX       0.101986     0.086458  120000\n",
       "8   Sclass       0.101986     0.102859   25000\n",
       "9       XJ       0.101986     0.070260    6600"
      ]
     },
     "execution_count": 188,
     "metadata": {},
     "output_type": "execute_result"
    }
   ],
   "source": [
    "merge1=pd.merge(left=uw_pr,right=w_pr,left_on='index',right_on='index',suffixes=['_unweighted','_weighted'])\n",
    "resultQb=pd.merge(left=merge1,right=sales_df,left_on='index',right_on='Model')[['Model','PR_unweighted' ,'PR_weighted','Sales']]\n",
    "resultQb"
   ]
  },
  {
   "cell_type": "code",
   "execution_count": 62,
   "metadata": {
    "scrolled": true
   },
   "outputs": [
    {
     "name": "stdout",
     "output_type": "stream",
     "text": [
      "unweighted corr= -0.560559978193\n",
      "weighted corr= 0.484373753944\n"
     ]
    }
   ],
   "source": [
    "print 'unweighted corr=',np.corrcoef(resultQb['PR_unweighted'],resultQb['Sales'])[1,0]\n",
    "print 'weighted corr=',np.corrcoef(resultQb['PR_weighted'],resultQb['Sales'])[1,0]"
   ]
  },
  {
   "cell_type": "markdown",
   "metadata": {},
   "source": [
    "Because in unweighted graph, we just treat all the link as 1 or 0, so if one model has a quite small weight from \n",
    "another model, this would be treated equally as a really large weight. Page rank is designed upon the notion of< different link is not weighted equal, so if we use unweighted page rank, we will just lose all the information on\n",
    "**the level of sentiment difference** between models."
   ]
  },
  {
   "cell_type": "markdown",
   "metadata": {},
   "source": [
    "# Part C"
   ]
  },
  {
   "cell_type": "code",
   "execution_count": 78,
   "metadata": {
    "collapsed": true
   },
   "outputs": [],
   "source": [
    "from nltk.corpus import stopwords\n",
    "'''\n",
    "Define our own stop words list that keeps useful stop words\n",
    "'''\n",
    "stop = stopwords.words('english')\n",
    "kept = [\"t\",\"cannot\",\"no\",\"nor\",\"not\",\"too\",\"so\",\"very\"]\n",
    "stop = [word for word in stop if word not in kept]"
   ]
  },
  {
   "cell_type": "code",
   "execution_count": 90,
   "metadata": {
    "collapsed": true
   },
   "outputs": [],
   "source": [
    "def model_replace(s):\n",
    "    '''\n",
    "    This function replace the - since otherwise it would be cut into two tokens and treated differently\n",
    "    '''\n",
    "    s=s.replace('-series','series')\n",
    "    s=s.replace('-class','class')\n",
    "    return s"
   ]
  },
  {
   "cell_type": "code",
   "execution_count": 91,
   "metadata": {
    "collapsed": true
   },
   "outputs": [],
   "source": [
    "from nltk.tokenize import RegexpTokenizer\n",
    "def StringProcess(s):\n",
    "    '''\n",
    "    This function transform a sentence into a list of tokenized words withous the useless stop words\n",
    "    '''\n",
    "    s=s.lower()\n",
    "    s=model_replace(s)\n",
    "    tokenizer = RegexpTokenizer(r'\\w+')\n",
    "    tokens=tokenizer.tokenize(s)\n",
    "    tokens=[word for word in tokens if word not in stop ]\n",
    "    return tokens"
   ]
  },
  {
   "cell_type": "code",
   "execution_count": 98,
   "metadata": {},
   "outputs": [
    {
     "data": {
      "text/plain": [
       "['a6', 'a8', '3series', '5series', '7series', 'xj', 'es', 'ls', 'rx', 'sclass']"
      ]
     },
     "execution_count": 98,
     "metadata": {},
     "output_type": "execute_result"
    }
   ],
   "source": [
    "models=[word.lower() for word in models]\n",
    "models"
   ]
  },
  {
   "cell_type": "code",
   "execution_count": 135,
   "metadata": {
    "collapsed": true
   },
   "outputs": [],
   "source": [
    "def mention_list(s):\n",
    "    '''\n",
    "    This function get the list of which model is mentioned in a review\n",
    "    '''\n",
    "    l=StringProcess(s)\n",
    "    model_list =[]\n",
    "    for i in models:\n",
    "        if i in l:\n",
    "            model_list.append(i)\n",
    "    return model_list"
   ]
  },
  {
   "cell_type": "code",
   "execution_count": 263,
   "metadata": {
    "collapsed": true
   },
   "outputs": [],
   "source": [
    "def get_near_words(Model, tokens):\n",
    "    '''\n",
    "    This function get the list of words that some words before and some after the model in each review\n",
    "    '''\n",
    "    modelindex=tokens.index(Model)\n",
    "    near_words=tokens[modelindex-3:modelindex+3]\n",
    "    return near_words\n"
   ]
  },
  {
   "cell_type": "code",
   "execution_count": 264,
   "metadata": {
    "collapsed": true
   },
   "outputs": [],
   "source": [
    "from nltk.sentiment.vader import SentimentIntensityAnalyzer\n",
    "sia = SentimentIntensityAnalyzer()\n",
    "def get_sent_score(l):\n",
    "    '''\n",
    "    This function takes the list of words we got and convert it to a sentence-like thing \n",
    "    and use VADER to analyse the sentiment score\n",
    "    '''\n",
    "    s=' '.join(l)\n",
    "    score = sia.polarity_scores(s)['compound']\n",
    "    return score"
   ]
  },
  {
   "cell_type": "code",
   "execution_count": 265,
   "metadata": {},
   "outputs": [
    {
     "data": {
      "text/html": [
       "<div>\n",
       "<style>\n",
       "    .dataframe thead tr:only-child th {\n",
       "        text-align: right;\n",
       "    }\n",
       "\n",
       "    .dataframe thead th {\n",
       "        text-align: left;\n",
       "    }\n",
       "\n",
       "    .dataframe tbody tr th {\n",
       "        vertical-align: top;\n",
       "    }\n",
       "</style>\n",
       "<table border=\"1\" class=\"dataframe\">\n",
       "  <thead>\n",
       "    <tr style=\"text-align: right;\">\n",
       "      <th></th>\n",
       "      <th>Review</th>\n",
       "    </tr>\n",
       "  </thead>\n",
       "  <tbody>\n",
       "    <tr>\n",
       "      <th>0</th>\n",
       "      <td>:P I like you, Merc. You make me laugh! If Mat...</td>\n",
       "    </tr>\n",
       "    <tr>\n",
       "      <th>1</th>\n",
       "      <td>I am surprised that I did not find any discuss...</td>\n",
       "    </tr>\n",
       "    <tr>\n",
       "      <th>2</th>\n",
       "      <td>I am surprised that I did not find any discuss...</td>\n",
       "    </tr>\n",
       "    <tr>\n",
       "      <th>3</th>\n",
       "      <td>. . .let me see if I am following along correc...</td>\n",
       "    </tr>\n",
       "    <tr>\n",
       "      <th>4</th>\n",
       "      <td>. . .now hold on a minute. A \"current\" A6 4.2 ...</td>\n",
       "    </tr>\n",
       "  </tbody>\n",
       "</table>\n",
       "</div>"
      ],
      "text/plain": [
       "                                              Review\n",
       "0  :P I like you, Merc. You make me laugh! If Mat...\n",
       "1  I am surprised that I did not find any discuss...\n",
       "2  I am surprised that I did not find any discuss...\n",
       "3  . . .let me see if I am following along correc...\n",
       "4  . . .now hold on a minute. A \"current\" A6 4.2 ..."
      ]
     },
     "execution_count": 265,
     "metadata": {},
     "output_type": "execute_result"
    }
   ],
   "source": [
    "reviews=pd.read_csv('Combined reviews.csv')\n",
    "reviews.head()"
   ]
  },
  {
   "cell_type": "code",
   "execution_count": 266,
   "metadata": {
    "collapsed": true
   },
   "outputs": [],
   "source": [
    "# initialize the whole dataframe to receive sentiment score data\n",
    "for i in models:\n",
    "    reviews[i] = np.nan\n",
    "reviews=reviews.drop_duplicates()\n",
    "reviews=reviews.reset_index()"
   ]
  },
  {
   "cell_type": "code",
   "execution_count": 267,
   "metadata": {
    "collapsed": true,
    "scrolled": true
   },
   "outputs": [],
   "source": [
    "for i in range(reviews.shape[0]):\n",
    "    menlist=mention_list(reviews.loc[i]['Review'])\n",
    "    token=StringProcess(reviews.loc[i]['Review'])\n",
    "    for j in menlist:\n",
    "        nearwords=get_near_words(j,token)\n",
    "        reviews.loc[i,j]=get_sent_score(nearwords)"
   ]
  },
  {
   "cell_type": "code",
   "execution_count": 268,
   "metadata": {
    "collapsed": true
   },
   "outputs": [],
   "source": [
    "def newnewcompare(a,b):\n",
    "    '''newcompare a and b to get the direction and weight\n",
    "    if tie, then return noting'''\n",
    "    maska=reviews[a].notnull()\n",
    "    maskb=reviews[b].notnull()\n",
    "    masked=reviews[maska&maskb]\n",
    "    abmask=masked[masked[a]>masked[b]]\n",
    "    if len(abmask)!=0:\n",
    "        difab=round(sum(abmask[a]-abmask[b])/len(abmask),2)\n",
    "        return (a,b,difab)\n",
    "    else:\n",
    "        return"
   ]
  },
  {
   "cell_type": "code",
   "execution_count": 269,
   "metadata": {
    "collapsed": true
   },
   "outputs": [],
   "source": [
    "our_newcompare_result=[]\n",
    "model_combine=list(combinations(models,2))\n",
    "for i in model_combine:\n",
    "    our_newcompare_result.append(newcompare(i[0],i[1]))\n",
    "    our_newcompare_result.append(newcompare(i[1],i[0]))\n",
    "our_newcompare_result=[str for str in our_newcompare_result if str not in [None]]"
   ]
  },
  {
   "cell_type": "code",
   "execution_count": 270,
   "metadata": {
    "collapsed": true
   },
   "outputs": [],
   "source": [
    "newG = nx.MultiDiGraph() \n",
    "for i in our_newcompare_result:\n",
    "    newG.add_edge(i[0], i[1], weight=i[2])\n",
    "edge_labels=dict([((u,v,),d['weight']) for u,v,d in newG.edges(data=True)])"
   ]
  },
  {
   "cell_type": "code",
   "execution_count": 271,
   "metadata": {
    "collapsed": true
   },
   "outputs": [],
   "source": [
    "newPR = nx.Graph()\n",
    "for u,v,d in newG.edges(data=True):\n",
    "    w = d['weight']\n",
    "    if newPR.has_edge(u,v):\n",
    "        newPR[u][v]['weight'] += w\n",
    "    else:\n",
    "        newPR.add_edge(u,v,weight=w)\n",
    "new_w_pr = nx.pagerank(newPR)\n",
    "new_w_pr=pd.DataFrame(Series(new_w_pr),columns=['our_PR']).reset_index()"
   ]
  },
  {
   "cell_type": "code",
   "execution_count": 272,
   "metadata": {
    "collapsed": true
   },
   "outputs": [],
   "source": [
    "def get_lower(s):\n",
    "    return s.lower()\n",
    "resultQb['mindex']=resultQb['Model'].map(get_lower)"
   ]
  },
  {
   "cell_type": "code",
   "execution_count": 273,
   "metadata": {
    "scrolled": true
   },
   "outputs": [
    {
     "data": {
      "text/html": [
       "<div>\n",
       "<style>\n",
       "    .dataframe thead tr:only-child th {\n",
       "        text-align: right;\n",
       "    }\n",
       "\n",
       "    .dataframe thead th {\n",
       "        text-align: left;\n",
       "    }\n",
       "\n",
       "    .dataframe tbody tr th {\n",
       "        vertical-align: top;\n",
       "    }\n",
       "</style>\n",
       "<table border=\"1\" class=\"dataframe\">\n",
       "  <thead>\n",
       "    <tr style=\"text-align: right;\">\n",
       "      <th></th>\n",
       "      <th>Model</th>\n",
       "      <th>PR_unweighted</th>\n",
       "      <th>PR_weighted</th>\n",
       "      <th>our_PR</th>\n",
       "      <th>Sales</th>\n",
       "    </tr>\n",
       "  </thead>\n",
       "  <tbody>\n",
       "    <tr>\n",
       "      <th>0</th>\n",
       "      <td>3series</td>\n",
       "      <td>0.092056</td>\n",
       "      <td>0.120342</td>\n",
       "      <td>0.105740</td>\n",
       "      <td>220000</td>\n",
       "    </tr>\n",
       "    <tr>\n",
       "      <th>1</th>\n",
       "      <td>5series</td>\n",
       "      <td>0.092056</td>\n",
       "      <td>0.096648</td>\n",
       "      <td>0.108683</td>\n",
       "      <td>60000</td>\n",
       "    </tr>\n",
       "    <tr>\n",
       "      <th>2</th>\n",
       "      <td>7series</td>\n",
       "      <td>0.101986</td>\n",
       "      <td>0.105182</td>\n",
       "      <td>0.098559</td>\n",
       "      <td>14000</td>\n",
       "    </tr>\n",
       "    <tr>\n",
       "      <th>3</th>\n",
       "      <td>A6</td>\n",
       "      <td>0.101986</td>\n",
       "      <td>0.099574</td>\n",
       "      <td>0.110004</td>\n",
       "      <td>20000</td>\n",
       "    </tr>\n",
       "    <tr>\n",
       "      <th>4</th>\n",
       "      <td>A8</td>\n",
       "      <td>0.101986</td>\n",
       "      <td>0.106371</td>\n",
       "      <td>0.103344</td>\n",
       "      <td>12000</td>\n",
       "    </tr>\n",
       "    <tr>\n",
       "      <th>5</th>\n",
       "      <td>ES</td>\n",
       "      <td>0.101986</td>\n",
       "      <td>0.111851</td>\n",
       "      <td>0.060096</td>\n",
       "      <td>135000</td>\n",
       "    </tr>\n",
       "    <tr>\n",
       "      <th>6</th>\n",
       "      <td>LS</td>\n",
       "      <td>0.101986</td>\n",
       "      <td>0.100456</td>\n",
       "      <td>0.105055</td>\n",
       "      <td>30000</td>\n",
       "    </tr>\n",
       "    <tr>\n",
       "      <th>7</th>\n",
       "      <td>RX</td>\n",
       "      <td>0.101986</td>\n",
       "      <td>0.086458</td>\n",
       "      <td>0.098778</td>\n",
       "      <td>120000</td>\n",
       "    </tr>\n",
       "    <tr>\n",
       "      <th>8</th>\n",
       "      <td>Sclass</td>\n",
       "      <td>0.101986</td>\n",
       "      <td>0.102859</td>\n",
       "      <td>0.110451</td>\n",
       "      <td>25000</td>\n",
       "    </tr>\n",
       "    <tr>\n",
       "      <th>9</th>\n",
       "      <td>XJ</td>\n",
       "      <td>0.101986</td>\n",
       "      <td>0.070260</td>\n",
       "      <td>0.099291</td>\n",
       "      <td>6600</td>\n",
       "    </tr>\n",
       "  </tbody>\n",
       "</table>\n",
       "</div>"
      ],
      "text/plain": [
       "     Model  PR_unweighted  PR_weighted    our_PR   Sales\n",
       "0  3series       0.092056     0.120342  0.105740  220000\n",
       "1  5series       0.092056     0.096648  0.108683   60000\n",
       "2  7series       0.101986     0.105182  0.098559   14000\n",
       "3       A6       0.101986     0.099574  0.110004   20000\n",
       "4       A8       0.101986     0.106371  0.103344   12000\n",
       "5       ES       0.101986     0.111851  0.060096  135000\n",
       "6       LS       0.101986     0.100456  0.105055   30000\n",
       "7       RX       0.101986     0.086458  0.098778  120000\n",
       "8   Sclass       0.101986     0.102859  0.110451   25000\n",
       "9       XJ       0.101986     0.070260  0.099291    6600"
      ]
     },
     "execution_count": 273,
     "metadata": {},
     "output_type": "execute_result"
    }
   ],
   "source": [
    "new_result=pd.merge(left=resultQb,right=new_w_pr,left_on='mindex',right_on='index')\n",
    "new_result=new_result[['Model','PR_unweighted','PR_weighted','our_PR','Sales']]\n",
    "new_result"
   ]
  },
  {
   "cell_type": "code",
   "execution_count": 274,
   "metadata": {},
   "outputs": [
    {
     "name": "stdout",
     "output_type": "stream",
     "text": [
      "our weighted corr= -0.33083272853\n"
     ]
    }
   ],
   "source": [
    "print 'our weighted corr=',np.corrcoef(new_result['our_PR'],new_result['Sales'])[1,0]"
   ]
  },
  {
   "cell_type": "code",
   "execution_count": 284,
   "metadata": {},
   "outputs": [
    {
     "name": "stdout",
     "output_type": "stream",
     "text": [
      "After removing the outliers, our weighted corr= 0.575752050068\n"
     ]
    }
   ],
   "source": [
    "test=new_result.drop([0,5,7])\n",
    "print 'After removing the outliers, our weighted corr=',np.corrcoef(test['our_PR'],test['Sales'])[1,0]"
   ]
  },
  {
   "cell_type": "markdown",
   "metadata": {},
   "source": [
    "We guess that there do exist some outliers in the relationship since as we get the words, some cars such as BMW 3-series are just people complain about a lot and compared with some really nice cars really often, but since they are just the entry level of BMW brand at a cheap price, people still purchase a lot."
   ]
  }
 ],
 "metadata": {
  "anaconda-cloud": {},
  "kernelspec": {
   "display_name": "Python [default]",
   "language": "python",
   "name": "python2"
  },
  "language_info": {
   "codemirror_mode": {
    "name": "ipython",
    "version": 2
   },
   "file_extension": ".py",
   "mimetype": "text/x-python",
   "name": "python",
   "nbconvert_exporter": "python",
   "pygments_lexer": "ipython2",
   "version": "2.7.13"
  }
 },
 "nbformat": 4,
 "nbformat_minor": 2
}
